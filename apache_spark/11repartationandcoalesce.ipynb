{
 "cells": [
  {
   "cell_type": "code",
   "execution_count": 1,
   "id": "9c2c2a11-22ff-4684-99f5-392476701dfe",
   "metadata": {
    "tags": []
   },
   "outputs": [
    {
     "name": "stderr",
     "output_type": "stream",
     "text": [
      "25/01/11 21:29:11 WARN Utils: Your hostname, Aadityas-MacBook-Air.local resolves to a loopback address: 127.0.0.1; using 192.168.1.128 instead (on interface en0)\n",
      "25/01/11 21:29:11 WARN Utils: Set SPARK_LOCAL_IP if you need to bind to another address\n",
      "Setting default log level to \"WARN\".\n",
      "To adjust logging level use sc.setLogLevel(newLevel). For SparkR, use setLogLevel(newLevel).\n",
      "25/01/11 21:29:11 WARN NativeCodeLoader: Unable to load native-hadoop library for your platform... using builtin-java classes where applicable\n",
      "25/01/11 21:29:12 WARN Utils: Service 'SparkUI' could not bind on port 4040. Attempting port 4041.\n"
     ]
    },
    {
     "data": {
      "text/html": [
       "\n",
       "            <div>\n",
       "                <p><b>SparkSession - in-memory</b></p>\n",
       "                \n",
       "        <div>\n",
       "            <p><b>SparkContext</b></p>\n",
       "\n",
       "            <p><a href=\"http://192.168.1.128:4041\">Spark UI</a></p>\n",
       "\n",
       "            <dl>\n",
       "              <dt>Version</dt>\n",
       "                <dd><code>v3.5.4</code></dd>\n",
       "              <dt>Master</dt>\n",
       "                <dd><code>local[*]</code></dd>\n",
       "              <dt>AppName</dt>\n",
       "                <dd><code>Data Partitions</code></dd>\n",
       "            </dl>\n",
       "        </div>\n",
       "        \n",
       "            </div>\n",
       "        "
      ],
      "text/plain": [
       "<pyspark.sql.session.SparkSession at 0x106812590>"
      ]
     },
     "execution_count": 1,
     "metadata": {},
     "output_type": "execute_result"
    },
    {
     "name": "stderr",
     "output_type": "stream",
     "text": [
      "25/01/11 21:29:23 WARN GarbageCollectionMetrics: To enable non-built-in garbage collector(s) List(G1 Concurrent GC), users should configure it(them) to spark.eventLog.gcMetrics.youngGenerationGarbageCollectors or spark.eventLog.gcMetrics.oldGenerationGarbageCollectors\n"
     ]
    }
   ],
   "source": [
    "from pyspark.sql import SparkSession\n",
    "\n",
    "spark = (\n",
    "    SparkSession\n",
    "    .builder\n",
    "    .appName(\"Data Partitions\")\n",
    "    .master(\"local[*]\")\n",
    "    .getOrCreate()\n",
    ")\n",
    "\n",
    "spark"
   ]
  },
  {
   "cell_type": "code",
   "execution_count": 2,
   "id": "bec8e9fb-135c-40ec-9848-02d69e26f21d",
   "metadata": {
    "tags": []
   },
   "outputs": [],
   "source": [
    "#spark le data lai partions gardina yedi kei vanae nau vanae aafai partition gardinxa\n",
    "#hamlae aafai le kati partitions garni vandina ni milxa\n",
    "#hamlae k same vako jastai department_id vako lai same same partition ma rakha testo vanna ni milxa"
   ]
  },
  {
   "cell_type": "code",
   "execution_count": 3,
   "id": "d2cb5240-460c-4877-a07f-1e184884af57",
   "metadata": {
    "tags": []
   },
   "outputs": [],
   "source": [
    "emp_data = [\n",
    "    [\"001\",\"101\",\"John Doe\",\"30\",\"Male\",\"50000\",\"2015-01-01\"],\n",
    "    [\"002\",\"101\",\"Jane Smith\",\"25\",\"Female\",\"45000\",\"2016-02-15\"],\n",
    "    [\"003\",\"102\",\"Bob Brown\",\"35\",\"Male\",\"55000\",\"2014-05-01\"],\n",
    "    [\"004\",\"102\",\"Alice Lee\",\"28\",\"Female\",\"48000\",\"2017-09-30\"],\n",
    "    [\"005\",\"103\",\"Jack Chan\",\"40\",\"Male\",\"60000\",\"2013-04-01\"],\n",
    "    [\"006\",\"103\",\"Jill Wong\",\"32\",\"Female\",\"52000\",\"2018-07-01\"],\n",
    "    [\"007\",\"101\",\"James Johnson\",\"42\",\"Male\",\"70000\",\"2012-03-15\"],\n",
    "    [\"008\",\"102\",\"Kate Kim\",\"29\",\"Female\",\"51000\",\"2019-10-01\"],\n",
    "    [\"009\",\"103\",\"Tom Tan\",\"33\",\"Male\",\"58000\",\"2016-06-01\"],\n",
    "    [\"010\",\"104\",\"Lisa Lee\",\"27\",\"Female\",\"47000\",\"2018-08-01\"],\n",
    "    [\"011\",\"104\",\"David Park\",\"38\",\"Male\",\"65000\",\"2015-11-01\"],\n",
    "    [\"012\",\"105\",\"Susan Chen\",\"31\",\"Female\",\"54000\",\"2017-02-15\"],\n",
    "    [\"013\",\"106\",\"Brian Kim\",\"45\",\"Male\",\"75000\",\"2011-07-01\"],\n",
    "    [\"014\",\"107\",\"Emily Lee\",\"26\",\"Female\",\"46000\",\"2019-01-01\"],\n",
    "    [\"015\",\"106\",\"Michael Lee\",\"37\",\"Male\",\"63000\",\"2014-09-30\"],\n",
    "    [\"016\",\"107\",\"Kelly Zhang\",\"30\",\"Female\",\"49000\",\"2018-04-01\"],\n",
    "    [\"017\",\"105\",\"George Wang\",\"34\",\"Male\",\"57000\",\"2016-03-15\"],\n",
    "    [\"018\",\"104\",\"Nancy Liu\",\"29\",\"\",\"50000\",\"2017-06-01\"],\n",
    "    [\"019\",\"103\",\"Steven Chen\",\"36\",\"Male\",\"62000\",\"2015-08-01\"],\n",
    "    [\"020\",\"102\",\"Grace Kim\",\"32\",\"Female\",\"53000\",\"2018-11-01\"]\n",
    "]\n",
    "\n",
    "emp_schema = \"employee_id string, department_id string, name string, age string, gender string, salary string, hire_date string\"\n"
   ]
  },
  {
   "cell_type": "code",
   "execution_count": 4,
   "id": "cae6fe73-f898-4179-92dd-78073fe94f2d",
   "metadata": {
    "tags": []
   },
   "outputs": [],
   "source": [
    "emp = spark.createDataFrame(data=emp_data, schema=emp_schema)"
   ]
  },
  {
   "cell_type": "code",
   "execution_count": 5,
   "id": "660155e0-1b0e-486e-90a8-41c7701b7c6d",
   "metadata": {
    "tags": []
   },
   "outputs": [
    {
     "data": {
      "text/plain": [
       "8"
      ]
     },
     "execution_count": 5,
     "metadata": {},
     "output_type": "execute_result"
    }
   ],
   "source": [
    "#to get no of partitions\n",
    "emp.rdd.getNumPartitions()"
   ]
  },
  {
   "cell_type": "code",
   "execution_count": 6,
   "id": "734e7ca7-a8af-4a83-8bea-eedd29078232",
   "metadata": {
    "tags": []
   },
   "outputs": [],
   "source": [
    "# so oosai lae partitins 8 banako xa"
   ]
  },
  {
   "cell_type": "markdown",
   "id": "a1c71c2c-86d7-4b6e-a1a5-d5df6acd4846",
   "metadata": {},
   "source": [
    "# halmae partitions ko numbers vary garnu pare repartition & coalesce"
   ]
  },
  {
   "cell_type": "code",
   "execution_count": 7,
   "id": "9f0a17d1-10e8-40c8-b61c-9e259865cba1",
   "metadata": {
    "tags": []
   },
   "outputs": [],
   "source": [
    "emp_partitioned = emp.repartition(4, \"department_id\")\n",
    "# repartition gara aaba chai 4 oota partition banau aani department id same vako lai yeutai partition ma rakha vanae ko"
   ]
  },
  {
   "cell_type": "code",
   "execution_count": 8,
   "id": "a32c2af3-44c7-49fe-b95d-31ea2152555b",
   "metadata": {
    "tags": []
   },
   "outputs": [
    {
     "name": "stderr",
     "output_type": "stream",
     "text": [
      "[Stage 0:>                                                          (0 + 8) / 8]\r"
     ]
    },
    {
     "data": {
      "text/plain": [
       "4"
      ]
     },
     "execution_count": 8,
     "metadata": {},
     "output_type": "execute_result"
    }
   ],
   "source": [
    "emp_partitioned.rdd.getNumPartitions()"
   ]
  },
  {
   "cell_type": "code",
   "execution_count": 9,
   "id": "f4126ac3-7340-42c1-86f4-8670fa5111c2",
   "metadata": {
    "tags": []
   },
   "outputs": [],
   "source": [
    "#aaba kun kun row kun kun partition ma paryo vaane ra herna ni milxa\n",
    "from pyspark.sql.functions import spark_partition_id\n",
    "\n",
    "emp_1 = emp_partitioned.withColumn(\"partition_num\", spark_partition_id())"
   ]
  },
  {
   "cell_type": "code",
   "execution_count": 10,
   "id": "bb6dfe1c-aaa1-41f6-9aff-ac6e4d6a98e5",
   "metadata": {
    "tags": []
   },
   "outputs": [
    {
     "name": "stderr",
     "output_type": "stream",
     "text": [
      "                                                                                \r"
     ]
    },
    {
     "name": "stdout",
     "output_type": "stream",
     "text": [
      "+-----------+-------------+-------------+---+------+------+----------+-------------+\n",
      "|employee_id|department_id|         name|age|gender|salary| hire_date|partition_num|\n",
      "+-----------+-------------+-------------+---+------+------+----------+-------------+\n",
      "|        003|          102|    Bob Brown| 35|  Male| 55000|2014-05-01|            0|\n",
      "|        004|          102|    Alice Lee| 28|Female| 48000|2017-09-30|            0|\n",
      "|        008|          102|     Kate Kim| 29|Female| 51000|2019-10-01|            0|\n",
      "|        014|          107|    Emily Lee| 26|Female| 46000|2019-01-01|            0|\n",
      "|        016|          107|  Kelly Zhang| 30|Female| 49000|2018-04-01|            0|\n",
      "|        020|          102|    Grace Kim| 32|Female| 53000|2018-11-01|            0|\n",
      "|        012|          105|   Susan Chen| 31|Female| 54000|2017-02-15|            1|\n",
      "|        017|          105|  George Wang| 34|  Male| 57000|2016-03-15|            1|\n",
      "|        010|          104|     Lisa Lee| 27|Female| 47000|2018-08-01|            2|\n",
      "|        011|          104|   David Park| 38|  Male| 65000|2015-11-01|            2|\n",
      "|        013|          106|    Brian Kim| 45|  Male| 75000|2011-07-01|            2|\n",
      "|        015|          106|  Michael Lee| 37|  Male| 63000|2014-09-30|            2|\n",
      "|        018|          104|    Nancy Liu| 29|      | 50000|2017-06-01|            2|\n",
      "|        001|          101|     John Doe| 30|  Male| 50000|2015-01-01|            3|\n",
      "|        002|          101|   Jane Smith| 25|Female| 45000|2016-02-15|            3|\n",
      "|        005|          103|    Jack Chan| 40|  Male| 60000|2013-04-01|            3|\n",
      "|        006|          103|    Jill Wong| 32|Female| 52000|2018-07-01|            3|\n",
      "|        007|          101|James Johnson| 42|  Male| 70000|2012-03-15|            3|\n",
      "|        009|          103|      Tom Tan| 33|  Male| 58000|2016-06-01|            3|\n",
      "|        019|          103|  Steven Chen| 36|  Male| 62000|2015-08-01|            3|\n",
      "+-----------+-------------+-------------+---+------+------+----------+-------------+\n",
      "\n"
     ]
    }
   ],
   "source": [
    "emp_1.show()"
   ]
  },
  {
   "cell_type": "code",
   "execution_count": 11,
   "id": "c49492cf-47e6-4a0d-b15e-f44af027c1d5",
   "metadata": {
    "tags": []
   },
   "outputs": [],
   "source": [
    "# aaba partition lai 100 banai heram\n",
    "emp_partitioned1 = emp.repartition(100)"
   ]
  },
  {
   "cell_type": "code",
   "execution_count": 12,
   "id": "90ba25f0-9801-4133-8f89-cbe3f532af2f",
   "metadata": {
    "tags": []
   },
   "outputs": [
    {
     "data": {
      "text/plain": [
       "100"
      ]
     },
     "execution_count": 12,
     "metadata": {},
     "output_type": "execute_result"
    }
   ],
   "source": [
    "emp_partitioned1.rdd.getNumPartitions()"
   ]
  },
  {
   "cell_type": "code",
   "execution_count": 15,
   "id": "c61822fd-c6c5-4b64-9635-eb945a38c1e3",
   "metadata": {
    "tags": []
   },
   "outputs": [],
   "source": [
    "#aaba kun kun row kun kun partition ma paryo vaane ra herna ni milxa\n",
    "from pyspark.sql.functions import spark_partition_id\n",
    "\n",
    "emp_2 = emp_partitioned1.withColumn(\"partition_num\", spark_partition_id())"
   ]
  },
  {
   "cell_type": "code",
   "execution_count": 17,
   "id": "e899a470-59ec-41fd-87bf-dde7a2845903",
   "metadata": {
    "tags": []
   },
   "outputs": [
    {
     "name": "stdout",
     "output_type": "stream",
     "text": [
      "+-----------+-------------+-------------+---+------+------+----------+-------------+\n",
      "|employee_id|department_id|         name|age|gender|salary| hire_date|partition_num|\n",
      "+-----------+-------------+-------------+---+------+------+----------+-------------+\n",
      "|        003|          102|    Bob Brown| 35|  Male| 55000|2014-05-01|            4|\n",
      "|        004|          102|    Alice Lee| 28|Female| 48000|2017-09-30|            5|\n",
      "|        014|          107|    Emily Lee| 26|Female| 46000|2019-01-01|           26|\n",
      "|        013|          106|    Brian Kim| 45|  Male| 75000|2011-07-01|           27|\n",
      "|        001|          101|     John Doe| 30|  Male| 50000|2015-01-01|           29|\n",
      "|        005|          103|    Jack Chan| 40|  Male| 60000|2013-04-01|           29|\n",
      "|        002|          101|   Jane Smith| 25|Female| 45000|2016-02-15|           30|\n",
      "|        006|          103|    Jill Wong| 32|Female| 52000|2018-07-01|           30|\n",
      "|        009|          103|      Tom Tan| 33|  Male| 58000|2016-06-01|           48|\n",
      "|        010|          104|     Lisa Lee| 27|Female| 47000|2018-08-01|           49|\n",
      "|        008|          102|     Kate Kim| 29|Female| 51000|2019-10-01|           50|\n",
      "|        007|          101|James Johnson| 42|  Male| 70000|2012-03-15|           51|\n",
      "|        012|          105|   Susan Chen| 31|Female| 54000|2017-02-15|           54|\n",
      "|        011|          104|   David Park| 38|  Male| 65000|2015-11-01|           55|\n",
      "|        020|          102|    Grace Kim| 32|Female| 53000|2018-11-01|           61|\n",
      "|        018|          104|    Nancy Liu| 29|      | 50000|2017-06-01|           62|\n",
      "|        019|          103|  Steven Chen| 36|  Male| 62000|2015-08-01|           63|\n",
      "|        017|          105|  George Wang| 34|  Male| 57000|2016-03-15|           64|\n",
      "|        015|          106|  Michael Lee| 37|  Male| 63000|2014-09-30|           91|\n",
      "|        016|          107|  Kelly Zhang| 30|Female| 49000|2018-04-01|           92|\n",
      "+-----------+-------------+-------------+---+------+------+----------+-------------+\n",
      "\n"
     ]
    }
   ],
   "source": [
    "emp_2.show()\n",
    "#random vai raa xa "
   ]
  },
  {
   "cell_type": "code",
   "execution_count": 22,
   "id": "9e2063c8-d186-4f64-b2a6-bfe3d8d555fb",
   "metadata": {
    "tags": []
   },
   "outputs": [],
   "source": [
    "#repartition garna coalease lae garna ni milxa tara yedi orginal partition vanda less partition banaunu xa vanae matrai\n",
    "emp_partitioned3 = emp.coalesce(1000)"
   ]
  },
  {
   "cell_type": "code",
   "execution_count": 25,
   "id": "be92f622-7ec4-41d7-86d6-0274ba4820fe",
   "metadata": {
    "tags": []
   },
   "outputs": [
    {
     "data": {
      "text/plain": [
       "8"
      ]
     },
     "execution_count": 25,
     "metadata": {},
     "output_type": "execute_result"
    }
   ],
   "source": [
    "emp_partitioned3.rdd.getNumPartitions()"
   ]
  },
  {
   "cell_type": "code",
   "execution_count": 26,
   "id": "d17db928-bd60-4f12-acee-b1d70a8cff92",
   "metadata": {
    "tags": []
   },
   "outputs": [],
   "source": [
    "# here we can see 1000 banauna khoje pani partition 8 nai xa but decrease chai hunxa coalesce le"
   ]
  },
  {
   "cell_type": "code",
   "execution_count": null,
   "id": "5b00af68-461d-40dd-a6a9-92cc9c637e4c",
   "metadata": {},
   "outputs": [],
   "source": []
  }
 ],
 "metadata": {
  "kernelspec": {
   "display_name": "sparkvenv",
   "language": "python",
   "name": "sparkvenv"
  },
  "language_info": {
   "codemirror_mode": {
    "name": "ipython",
    "version": 3
   },
   "file_extension": ".py",
   "mimetype": "text/x-python",
   "name": "python",
   "nbconvert_exporter": "python",
   "pygments_lexer": "ipython3",
   "version": "3.11.5"
  }
 },
 "nbformat": 4,
 "nbformat_minor": 5
}
