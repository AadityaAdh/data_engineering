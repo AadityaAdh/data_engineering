{
 "cells": [
  {
   "cell_type": "code",
   "execution_count": 1,
   "id": "26850d08-91ca-485d-ba4b-d88c7e3a9594",
   "metadata": {
    "tags": []
   },
   "outputs": [
    {
     "name": "stderr",
     "output_type": "stream",
     "text": [
      "25/01/11 21:55:29 WARN Utils: Your hostname, Aadityas-MacBook-Air.local resolves to a loopback address: 127.0.0.1; using 192.168.1.128 instead (on interface en0)\n",
      "25/01/11 21:55:29 WARN Utils: Set SPARK_LOCAL_IP if you need to bind to another address\n",
      "Setting default log level to \"WARN\".\n",
      "To adjust logging level use sc.setLogLevel(newLevel). For SparkR, use setLogLevel(newLevel).\n",
      "25/01/11 21:55:30 WARN NativeCodeLoader: Unable to load native-hadoop library for your platform... using builtin-java classes where applicable\n",
      "25/01/11 21:55:30 WARN Utils: Service 'SparkUI' could not bind on port 4040. Attempting port 4041.\n",
      "25/01/11 21:55:30 WARN Utils: Service 'SparkUI' could not bind on port 4041. Attempting port 4042.\n"
     ]
    },
    {
     "data": {
      "text/html": [
       "\n",
       "            <div>\n",
       "                <p><b>SparkSession - in-memory</b></p>\n",
       "                \n",
       "        <div>\n",
       "            <p><b>SparkContext</b></p>\n",
       "\n",
       "            <p><a href=\"http://192.168.1.128:4042\">Spark UI</a></p>\n",
       "\n",
       "            <dl>\n",
       "              <dt>Version</dt>\n",
       "                <dd><code>v3.5.4</code></dd>\n",
       "              <dt>Master</dt>\n",
       "                <dd><code>local[*]</code></dd>\n",
       "              <dt>AppName</dt>\n",
       "                <dd><code>Joins</code></dd>\n",
       "            </dl>\n",
       "        </div>\n",
       "        \n",
       "            </div>\n",
       "        "
      ],
      "text/plain": [
       "<pyspark.sql.session.SparkSession at 0x104d0e690>"
      ]
     },
     "execution_count": 1,
     "metadata": {},
     "output_type": "execute_result"
    }
   ],
   "source": [
    "from pyspark.sql import SparkSession\n",
    "\n",
    "spark = (\n",
    "    SparkSession\n",
    "    .builder\n",
    "    .appName(\"Joins\")\n",
    "    .master(\"local[*]\")\n",
    "    .getOrCreate()\n",
    ")\n",
    "\n",
    "spark"
   ]
  },
  {
   "cell_type": "code",
   "execution_count": 2,
   "id": "039768e6-671d-42d1-aca8-2d1393fe70ff",
   "metadata": {
    "tags": []
   },
   "outputs": [
    {
     "name": "stderr",
     "output_type": "stream",
     "text": [
      "25/01/11 21:55:42 WARN GarbageCollectionMetrics: To enable non-built-in garbage collector(s) List(G1 Concurrent GC), users should configure it(them) to spark.eventLog.gcMetrics.youngGenerationGarbageCollectors or spark.eventLog.gcMetrics.oldGenerationGarbageCollectors\n"
     ]
    }
   ],
   "source": [
    "emp_data = [\n",
    "    [\"001\",\"101\",\"John Doe\",\"30\",\"Male\",\"50000\",\"2015-01-01\"],\n",
    "    [\"002\",\"101\",\"Jane Smith\",\"25\",\"Female\",\"45000\",\"2016-02-15\"],\n",
    "    [\"003\",\"102\",\"Bob Brown\",\"35\",\"Male\",\"55000\",\"2014-05-01\"],\n",
    "    [\"004\",\"102\",\"Alice Lee\",\"28\",\"Female\",\"48000\",\"2017-09-30\"],\n",
    "    [\"005\",\"103\",\"Jack Chan\",\"40\",\"Male\",\"60000\",\"2013-04-01\"],\n",
    "    [\"006\",\"103\",\"Jill Wong\",\"32\",\"Female\",\"52000\",\"2018-07-01\"],\n",
    "    [\"007\",\"101\",\"James Johnson\",\"42\",\"Male\",\"70000\",\"2012-03-15\"],\n",
    "    [\"008\",\"102\",\"Kate Kim\",\"29\",\"Female\",\"51000\",\"2019-10-01\"],\n",
    "    [\"009\",\"103\",\"Tom Tan\",\"33\",\"Male\",\"58000\",\"2016-06-01\"],\n",
    "    [\"010\",\"104\",\"Lisa Lee\",\"27\",\"Female\",\"47000\",\"2018-08-01\"],\n",
    "    [\"011\",\"104\",\"David Park\",\"38\",\"Male\",\"65000\",\"2015-11-01\"],\n",
    "    [\"012\",\"105\",\"Susan Chen\",\"31\",\"Female\",\"54000\",\"2017-02-15\"],\n",
    "    [\"013\",\"106\",\"Brian Kim\",\"45\",\"Male\",\"75000\",\"2011-07-01\"],\n",
    "    [\"014\",\"107\",\"Emily Lee\",\"26\",\"Female\",\"46000\",\"2019-01-01\"],\n",
    "    [\"015\",\"106\",\"Michael Lee\",\"37\",\"Male\",\"63000\",\"2014-09-30\"],\n",
    "    [\"016\",\"107\",\"Kelly Zhang\",\"30\",\"Female\",\"49000\",\"2018-04-01\"],\n",
    "    [\"017\",\"105\",\"George Wang\",\"34\",\"Male\",\"57000\",\"2016-03-15\"],\n",
    "    [\"018\",\"104\",\"Nancy Liu\",\"29\",\"\",\"50000\",\"2017-06-01\"],\n",
    "    [\"019\",\"103\",\"Steven Chen\",\"36\",\"Male\",\"62000\",\"2015-08-01\"],\n",
    "    [\"020\",\"102\",\"Grace Kim\",\"32\",\"Female\",\"53000\",\"2018-11-01\"]\n",
    "]\n",
    "\n",
    "emp_schema = \"employee_id string, department_id string, name string, age string, gender string, salary string, hire_date string\"\n",
    "\n",
    "dept_data = [\n",
    "    [\"101\", \"Sales\", \"NYC\", \"US\", \"1000000\"],\n",
    "    [\"102\", \"Marketing\", \"LA\", \"US\", \"900000\"],\n",
    "    [\"103\", \"Finance\", \"London\", \"UK\", \"1200000\"],\n",
    "    [\"104\", \"Engineering\", \"Beijing\", \"China\", \"1500000\"],\n",
    "    [\"105\", \"Human Resources\", \"Tokyo\", \"Japan\", \"800000\"],\n",
    "    [\"106\", \"Research and Development\", \"Perth\", \"Australia\", \"1100000\"],\n",
    "    [\"107\", \"Customer Service\", \"Sydney\", \"Australia\", \"950000\"]\n",
    "]\n",
    "\n",
    "dept_schema = \"department_id string, department_name string, city string, country string, budget string\"\n"
   ]
  },
  {
   "cell_type": "code",
   "execution_count": 4,
   "id": "267f5aa4-1dca-4ff0-9b6e-1b93d7531cff",
   "metadata": {
    "tags": []
   },
   "outputs": [],
   "source": [
    "emp = spark.createDataFrame(data=emp_data, schema=emp_schema)\n",
    "dept = spark.createDataFrame(data=dept_data, schema=dept_schema)"
   ]
  },
  {
   "cell_type": "code",
   "execution_count": 25,
   "id": "4051963b-1974-472e-9fce-79f1d9dee8dd",
   "metadata": {
    "tags": []
   },
   "outputs": [],
   "source": [
    "emp_joined=emp.join(dept,how='inner',on=emp.department_id==dept.department_id)"
   ]
  },
  {
   "cell_type": "code",
   "execution_count": 26,
   "id": "1f838729-b1a5-48d0-b4ed-a40253f65c35",
   "metadata": {
    "tags": []
   },
   "outputs": [
    {
     "name": "stdout",
     "output_type": "stream",
     "text": [
      "+-----------+-------------+-------------+---+------+------+----------+-------------+--------------------+-------+---------+-------+\n",
      "|employee_id|department_id|         name|age|gender|salary| hire_date|department_id|     department_name|   city|  country| budget|\n",
      "+-----------+-------------+-------------+---+------+------+----------+-------------+--------------------+-------+---------+-------+\n",
      "|        001|          101|     John Doe| 30|  Male| 50000|2015-01-01|          101|               Sales|    NYC|       US|1000000|\n",
      "|        002|          101|   Jane Smith| 25|Female| 45000|2016-02-15|          101|               Sales|    NYC|       US|1000000|\n",
      "|        007|          101|James Johnson| 42|  Male| 70000|2012-03-15|          101|               Sales|    NYC|       US|1000000|\n",
      "|        003|          102|    Bob Brown| 35|  Male| 55000|2014-05-01|          102|           Marketing|     LA|       US| 900000|\n",
      "|        004|          102|    Alice Lee| 28|Female| 48000|2017-09-30|          102|           Marketing|     LA|       US| 900000|\n",
      "|        008|          102|     Kate Kim| 29|Female| 51000|2019-10-01|          102|           Marketing|     LA|       US| 900000|\n",
      "|        020|          102|    Grace Kim| 32|Female| 53000|2018-11-01|          102|           Marketing|     LA|       US| 900000|\n",
      "|        005|          103|    Jack Chan| 40|  Male| 60000|2013-04-01|          103|             Finance| London|       UK|1200000|\n",
      "|        006|          103|    Jill Wong| 32|Female| 52000|2018-07-01|          103|             Finance| London|       UK|1200000|\n",
      "|        009|          103|      Tom Tan| 33|  Male| 58000|2016-06-01|          103|             Finance| London|       UK|1200000|\n",
      "|        019|          103|  Steven Chen| 36|  Male| 62000|2015-08-01|          103|             Finance| London|       UK|1200000|\n",
      "|        010|          104|     Lisa Lee| 27|Female| 47000|2018-08-01|          104|         Engineering|Beijing|    China|1500000|\n",
      "|        011|          104|   David Park| 38|  Male| 65000|2015-11-01|          104|         Engineering|Beijing|    China|1500000|\n",
      "|        018|          104|    Nancy Liu| 29|      | 50000|2017-06-01|          104|         Engineering|Beijing|    China|1500000|\n",
      "|        012|          105|   Susan Chen| 31|Female| 54000|2017-02-15|          105|     Human Resources|  Tokyo|    Japan| 800000|\n",
      "|        017|          105|  George Wang| 34|  Male| 57000|2016-03-15|          105|     Human Resources|  Tokyo|    Japan| 800000|\n",
      "|        013|          106|    Brian Kim| 45|  Male| 75000|2011-07-01|          106|Research and Deve...|  Perth|Australia|1100000|\n",
      "|        015|          106|  Michael Lee| 37|  Male| 63000|2014-09-30|          106|Research and Deve...|  Perth|Australia|1100000|\n",
      "|        014|          107|    Emily Lee| 26|Female| 46000|2019-01-01|          107|    Customer Service| Sydney|Australia| 950000|\n",
      "|        016|          107|  Kelly Zhang| 30|Female| 49000|2018-04-01|          107|    Customer Service| Sydney|Australia| 950000|\n",
      "+-----------+-------------+-------------+---+------+------+----------+-------------+--------------------+-------+---------+-------+\n",
      "\n"
     ]
    }
   ],
   "source": [
    "emp_joined.show()"
   ]
  },
  {
   "cell_type": "code",
   "execution_count": 27,
   "id": "a0c540e8-2f9c-4a03-a1e5-83b7c2164b4f",
   "metadata": {
    "tags": []
   },
   "outputs": [
    {
     "ename": "AnalysisException",
     "evalue": "[AMBIGUOUS_REFERENCE] Reference `department_id` is ambiguous, could be: [`department_id`, `department_id`].",
     "output_type": "error",
     "traceback": [
      "\u001b[0;31m---------------------------------------------------------------------------\u001b[0m",
      "\u001b[0;31mAnalysisException\u001b[0m                         Traceback (most recent call last)",
      "Cell \u001b[0;32mIn[27], line 1\u001b[0m\n\u001b[0;32m----> 1\u001b[0m emp_joined\u001b[38;5;241m.\u001b[39mselect(\u001b[43memp_joined\u001b[49m\u001b[43m[\u001b[49m\u001b[38;5;124;43m\"\u001b[39;49m\u001b[38;5;124;43mdepartment_id\u001b[39;49m\u001b[38;5;124;43m\"\u001b[39;49m\u001b[43m]\u001b[49m)\u001b[38;5;66;03m# note error aai raa xa \u001b[39;00m\n\u001b[1;32m      2\u001b[0m \u001b[38;5;66;03m#so select ma ni garthyam ni hamlae select emp.name,dept.name from employees  inner join dept.....\u001b[39;00m\n\u001b[1;32m      3\u001b[0m \u001b[38;5;66;03m# so select ma ni yestai garni\u001b[39;00m\n",
      "File \u001b[0;32m~/Desktop/spark/sparkvenv/lib/python3.11/site-packages/pyspark/sql/dataframe.py:3080\u001b[0m, in \u001b[0;36mDataFrame.__getitem__\u001b[0;34m(self, item)\u001b[0m\n\u001b[1;32m   3008\u001b[0m \u001b[38;5;250m\u001b[39m\u001b[38;5;124;03m\"\"\"Returns the column as a :class:`Column`.\u001b[39;00m\n\u001b[1;32m   3009\u001b[0m \n\u001b[1;32m   3010\u001b[0m \u001b[38;5;124;03m.. versionadded:: 1.3.0\u001b[39;00m\n\u001b[0;32m   (...)\u001b[0m\n\u001b[1;32m   3077\u001b[0m \u001b[38;5;124;03m+---+----+\u001b[39;00m\n\u001b[1;32m   3078\u001b[0m \u001b[38;5;124;03m\"\"\"\u001b[39;00m\n\u001b[1;32m   3079\u001b[0m \u001b[38;5;28;01mif\u001b[39;00m \u001b[38;5;28misinstance\u001b[39m(item, \u001b[38;5;28mstr\u001b[39m):\n\u001b[0;32m-> 3080\u001b[0m     jc \u001b[38;5;241m=\u001b[39m \u001b[38;5;28;43mself\u001b[39;49m\u001b[38;5;241;43m.\u001b[39;49m\u001b[43m_jdf\u001b[49m\u001b[38;5;241;43m.\u001b[39;49m\u001b[43mapply\u001b[49m\u001b[43m(\u001b[49m\u001b[43mitem\u001b[49m\u001b[43m)\u001b[49m\n\u001b[1;32m   3081\u001b[0m     \u001b[38;5;28;01mreturn\u001b[39;00m Column(jc)\n\u001b[1;32m   3082\u001b[0m \u001b[38;5;28;01melif\u001b[39;00m \u001b[38;5;28misinstance\u001b[39m(item, Column):\n",
      "File \u001b[0;32m~/Desktop/spark/sparkvenv/lib/python3.11/site-packages/py4j/java_gateway.py:1322\u001b[0m, in \u001b[0;36mJavaMember.__call__\u001b[0;34m(self, *args)\u001b[0m\n\u001b[1;32m   1316\u001b[0m command \u001b[38;5;241m=\u001b[39m proto\u001b[38;5;241m.\u001b[39mCALL_COMMAND_NAME \u001b[38;5;241m+\u001b[39m\\\n\u001b[1;32m   1317\u001b[0m     \u001b[38;5;28mself\u001b[39m\u001b[38;5;241m.\u001b[39mcommand_header \u001b[38;5;241m+\u001b[39m\\\n\u001b[1;32m   1318\u001b[0m     args_command \u001b[38;5;241m+\u001b[39m\\\n\u001b[1;32m   1319\u001b[0m     proto\u001b[38;5;241m.\u001b[39mEND_COMMAND_PART\n\u001b[1;32m   1321\u001b[0m answer \u001b[38;5;241m=\u001b[39m \u001b[38;5;28mself\u001b[39m\u001b[38;5;241m.\u001b[39mgateway_client\u001b[38;5;241m.\u001b[39msend_command(command)\n\u001b[0;32m-> 1322\u001b[0m return_value \u001b[38;5;241m=\u001b[39m \u001b[43mget_return_value\u001b[49m\u001b[43m(\u001b[49m\n\u001b[1;32m   1323\u001b[0m \u001b[43m    \u001b[49m\u001b[43manswer\u001b[49m\u001b[43m,\u001b[49m\u001b[43m \u001b[49m\u001b[38;5;28;43mself\u001b[39;49m\u001b[38;5;241;43m.\u001b[39;49m\u001b[43mgateway_client\u001b[49m\u001b[43m,\u001b[49m\u001b[43m \u001b[49m\u001b[38;5;28;43mself\u001b[39;49m\u001b[38;5;241;43m.\u001b[39;49m\u001b[43mtarget_id\u001b[49m\u001b[43m,\u001b[49m\u001b[43m \u001b[49m\u001b[38;5;28;43mself\u001b[39;49m\u001b[38;5;241;43m.\u001b[39;49m\u001b[43mname\u001b[49m\u001b[43m)\u001b[49m\n\u001b[1;32m   1325\u001b[0m \u001b[38;5;28;01mfor\u001b[39;00m temp_arg \u001b[38;5;129;01min\u001b[39;00m temp_args:\n\u001b[1;32m   1326\u001b[0m     \u001b[38;5;28;01mif\u001b[39;00m \u001b[38;5;28mhasattr\u001b[39m(temp_arg, \u001b[38;5;124m\"\u001b[39m\u001b[38;5;124m_detach\u001b[39m\u001b[38;5;124m\"\u001b[39m):\n",
      "File \u001b[0;32m~/Desktop/spark/sparkvenv/lib/python3.11/site-packages/pyspark/errors/exceptions/captured.py:185\u001b[0m, in \u001b[0;36mcapture_sql_exception.<locals>.deco\u001b[0;34m(*a, **kw)\u001b[0m\n\u001b[1;32m    181\u001b[0m converted \u001b[38;5;241m=\u001b[39m convert_exception(e\u001b[38;5;241m.\u001b[39mjava_exception)\n\u001b[1;32m    182\u001b[0m \u001b[38;5;28;01mif\u001b[39;00m \u001b[38;5;129;01mnot\u001b[39;00m \u001b[38;5;28misinstance\u001b[39m(converted, UnknownException):\n\u001b[1;32m    183\u001b[0m     \u001b[38;5;66;03m# Hide where the exception came from that shows a non-Pythonic\u001b[39;00m\n\u001b[1;32m    184\u001b[0m     \u001b[38;5;66;03m# JVM exception message.\u001b[39;00m\n\u001b[0;32m--> 185\u001b[0m     \u001b[38;5;28;01mraise\u001b[39;00m converted \u001b[38;5;28;01mfrom\u001b[39;00m\u001b[38;5;250m \u001b[39m\u001b[38;5;28;01mNone\u001b[39;00m\n\u001b[1;32m    186\u001b[0m \u001b[38;5;28;01melse\u001b[39;00m:\n\u001b[1;32m    187\u001b[0m     \u001b[38;5;28;01mraise\u001b[39;00m\n",
      "\u001b[0;31mAnalysisException\u001b[0m: [AMBIGUOUS_REFERENCE] Reference `department_id` is ambiguous, could be: [`department_id`, `department_id`]."
     ]
    }
   ],
   "source": [
    "emp_joined.select(emp_joined[\"department_id\"])# note error aai raa xa \n",
    "#so select ma ni garthyam ni hamlae select emp.name,dept.name from employees  inner join dept.....\n",
    "# so select ma ni yestai garni"
   ]
  },
  {
   "cell_type": "code",
   "execution_count": 28,
   "id": "c253e219-f04c-4e6f-a2e5-6e1c97d93ce8",
   "metadata": {
    "tags": []
   },
   "outputs": [
    {
     "name": "stdout",
     "output_type": "stream",
     "text": [
      "+-------------+\n",
      "|department_id|\n",
      "+-------------+\n",
      "|          101|\n",
      "|          101|\n",
      "|          101|\n",
      "|          102|\n",
      "|          102|\n",
      "|          102|\n",
      "|          102|\n",
      "|          103|\n",
      "|          103|\n",
      "|          103|\n",
      "|          103|\n",
      "|          104|\n",
      "|          104|\n",
      "|          104|\n",
      "|          105|\n",
      "|          105|\n",
      "|          106|\n",
      "|          106|\n",
      "|          107|\n",
      "|          107|\n",
      "+-------------+\n",
      "\n"
     ]
    }
   ],
   "source": [
    "emp_joined.select(emp[\"department_id\"]).show() #alias vayae ra e gare ko\n"
   ]
  },
  {
   "cell_type": "code",
   "execution_count": 29,
   "id": "d02556c3-c720-4c47-9dc1-fc4db92e83ba",
   "metadata": {
    "tags": []
   },
   "outputs": [
    {
     "data": {
      "text/plain": [
       "DataFrame[department_id: string]"
      ]
     },
     "execution_count": 29,
     "metadata": {},
     "output_type": "execute_result"
    }
   ],
   "source": [
    "emp_joined.select(dept[\"department_id\"])\n"
   ]
  },
  {
   "cell_type": "code",
   "execution_count": 30,
   "id": "3c248964-29ff-44c1-b98f-5816ee8cce44",
   "metadata": {
    "tags": []
   },
   "outputs": [
    {
     "name": "stdout",
     "output_type": "stream",
     "text": [
      "+-----------+-------------+-------------+---+------+------+----------+-------------+--------------------+-------+---------+-------+\n",
      "|employee_id|department_id|         name|age|gender|salary| hire_date|department_id|     department_name|   city|  country| budget|\n",
      "+-----------+-------------+-------------+---+------+------+----------+-------------+--------------------+-------+---------+-------+\n",
      "|        001|          101|     John Doe| 30|  Male| 50000|2015-01-01|          101|               Sales|    NYC|       US|1000000|\n",
      "|        002|          101|   Jane Smith| 25|Female| 45000|2016-02-15|          101|               Sales|    NYC|       US|1000000|\n",
      "|        007|          101|James Johnson| 42|  Male| 70000|2012-03-15|          101|               Sales|    NYC|       US|1000000|\n",
      "|        003|          102|    Bob Brown| 35|  Male| 55000|2014-05-01|          102|           Marketing|     LA|       US| 900000|\n",
      "|        004|          102|    Alice Lee| 28|Female| 48000|2017-09-30|          102|           Marketing|     LA|       US| 900000|\n",
      "|        008|          102|     Kate Kim| 29|Female| 51000|2019-10-01|          102|           Marketing|     LA|       US| 900000|\n",
      "|        020|          102|    Grace Kim| 32|Female| 53000|2018-11-01|          102|           Marketing|     LA|       US| 900000|\n",
      "|        005|          103|    Jack Chan| 40|  Male| 60000|2013-04-01|          103|             Finance| London|       UK|1200000|\n",
      "|        006|          103|    Jill Wong| 32|Female| 52000|2018-07-01|          103|             Finance| London|       UK|1200000|\n",
      "|        009|          103|      Tom Tan| 33|  Male| 58000|2016-06-01|          103|             Finance| London|       UK|1200000|\n",
      "|        019|          103|  Steven Chen| 36|  Male| 62000|2015-08-01|          103|             Finance| London|       UK|1200000|\n",
      "|        010|          104|     Lisa Lee| 27|Female| 47000|2018-08-01|          104|         Engineering|Beijing|    China|1500000|\n",
      "|        011|          104|   David Park| 38|  Male| 65000|2015-11-01|          104|         Engineering|Beijing|    China|1500000|\n",
      "|        018|          104|    Nancy Liu| 29|      | 50000|2017-06-01|          104|         Engineering|Beijing|    China|1500000|\n",
      "|        012|          105|   Susan Chen| 31|Female| 54000|2017-02-15|          105|     Human Resources|  Tokyo|    Japan| 800000|\n",
      "|        017|          105|  George Wang| 34|  Male| 57000|2016-03-15|          105|     Human Resources|  Tokyo|    Japan| 800000|\n",
      "|        013|          106|    Brian Kim| 45|  Male| 75000|2011-07-01|          106|Research and Deve...|  Perth|Australia|1100000|\n",
      "|        015|          106|  Michael Lee| 37|  Male| 63000|2014-09-30|          106|Research and Deve...|  Perth|Australia|1100000|\n",
      "|        014|          107|    Emily Lee| 26|Female| 46000|2019-01-01|          107|    Customer Service| Sydney|Australia| 950000|\n",
      "|        016|          107|  Kelly Zhang| 30|Female| 49000|2018-04-01|          107|    Customer Service| Sydney|Australia| 950000|\n",
      "+-----------+-------------+-------------+---+------+------+----------+-------------+--------------------+-------+---------+-------+\n",
      "\n"
     ]
    }
   ],
   "source": [
    "#non ambigious ma chai siddai garda hunxa\n",
    "emp_joined.show()"
   ]
  },
  {
   "cell_type": "code",
   "execution_count": 32,
   "id": "ca7b04c8-98f9-4e3c-8500-a18a40a53ab4",
   "metadata": {
    "tags": []
   },
   "outputs": [
    {
     "name": "stdout",
     "output_type": "stream",
     "text": [
      "+-------------+\n",
      "|         name|\n",
      "+-------------+\n",
      "|     John Doe|\n",
      "|   Jane Smith|\n",
      "|James Johnson|\n",
      "|    Bob Brown|\n",
      "|    Alice Lee|\n",
      "|     Kate Kim|\n",
      "|    Grace Kim|\n",
      "|    Jack Chan|\n",
      "|    Jill Wong|\n",
      "|      Tom Tan|\n",
      "|  Steven Chen|\n",
      "|     Lisa Lee|\n",
      "|   David Park|\n",
      "|    Nancy Liu|\n",
      "|   Susan Chen|\n",
      "|  George Wang|\n",
      "|    Brian Kim|\n",
      "|  Michael Lee|\n",
      "|    Emily Lee|\n",
      "|  Kelly Zhang|\n",
      "+-------------+\n",
      "\n"
     ]
    }
   ],
   "source": [
    "emp_joined.select(emp_joined[\"name\"]).show()"
   ]
  },
  {
   "cell_type": "code",
   "execution_count": 39,
   "id": "1df1cc1e-3fe8-40ba-88ac-a58d9ddd2810",
   "metadata": {
    "tags": []
   },
   "outputs": [],
   "source": [
    "# Join with Department_id and only for departments 101 or 102\n",
    "# Join with not null/null conditions\n",
    "\n",
    "df_final = emp.join(dept, how=\"left_outer\", \n",
    "                   on=(emp.department_id==dept.department_id) & ((emp.department_id == \"101\") | (emp.department_id == \"102\")) \n",
    "                    & (~ emp.salary.isNull())#isNotNull garda pani hunxa\n",
    "                   )"
   ]
  },
  {
   "cell_type": "code",
   "execution_count": 40,
   "id": "9b8b8958-64c2-447b-9e45-498bba13068c",
   "metadata": {
    "tags": []
   },
   "outputs": [
    {
     "name": "stdout",
     "output_type": "stream",
     "text": [
      "+-----------+-------------+-------------+---+------+------+----------+-------------+---------------+----+-------+-------+\n",
      "|employee_id|department_id|         name|age|gender|salary| hire_date|department_id|department_name|city|country| budget|\n",
      "+-----------+-------------+-------------+---+------+------+----------+-------------+---------------+----+-------+-------+\n",
      "|        001|          101|     John Doe| 30|  Male| 50000|2015-01-01|          101|          Sales| NYC|     US|1000000|\n",
      "|        002|          101|   Jane Smith| 25|Female| 45000|2016-02-15|          101|          Sales| NYC|     US|1000000|\n",
      "|        003|          102|    Bob Brown| 35|  Male| 55000|2014-05-01|          102|      Marketing|  LA|     US| 900000|\n",
      "|        004|          102|    Alice Lee| 28|Female| 48000|2017-09-30|          102|      Marketing|  LA|     US| 900000|\n",
      "|        005|          103|    Jack Chan| 40|  Male| 60000|2013-04-01|         NULL|           NULL|NULL|   NULL|   NULL|\n",
      "|        006|          103|    Jill Wong| 32|Female| 52000|2018-07-01|         NULL|           NULL|NULL|   NULL|   NULL|\n",
      "|        007|          101|James Johnson| 42|  Male| 70000|2012-03-15|          101|          Sales| NYC|     US|1000000|\n",
      "|        010|          104|     Lisa Lee| 27|Female| 47000|2018-08-01|         NULL|           NULL|NULL|   NULL|   NULL|\n",
      "|        008|          102|     Kate Kim| 29|Female| 51000|2019-10-01|          102|      Marketing|  LA|     US| 900000|\n",
      "|        009|          103|      Tom Tan| 33|  Male| 58000|2016-06-01|         NULL|           NULL|NULL|   NULL|   NULL|\n",
      "|        011|          104|   David Park| 38|  Male| 65000|2015-11-01|         NULL|           NULL|NULL|   NULL|   NULL|\n",
      "|        012|          105|   Susan Chen| 31|Female| 54000|2017-02-15|         NULL|           NULL|NULL|   NULL|   NULL|\n",
      "|        014|          107|    Emily Lee| 26|Female| 46000|2019-01-01|         NULL|           NULL|NULL|   NULL|   NULL|\n",
      "|        013|          106|    Brian Kim| 45|  Male| 75000|2011-07-01|         NULL|           NULL|NULL|   NULL|   NULL|\n",
      "|        016|          107|  Kelly Zhang| 30|Female| 49000|2018-04-01|         NULL|           NULL|NULL|   NULL|   NULL|\n",
      "|        015|          106|  Michael Lee| 37|  Male| 63000|2014-09-30|         NULL|           NULL|NULL|   NULL|   NULL|\n",
      "|        018|          104|    Nancy Liu| 29|      | 50000|2017-06-01|         NULL|           NULL|NULL|   NULL|   NULL|\n",
      "|        020|          102|    Grace Kim| 32|Female| 53000|2018-11-01|          102|      Marketing|  LA|     US| 900000|\n",
      "|        019|          103|  Steven Chen| 36|  Male| 62000|2015-08-01|         NULL|           NULL|NULL|   NULL|   NULL|\n",
      "|        017|          105|  George Wang| 34|  Male| 57000|2016-03-15|         NULL|           NULL|NULL|   NULL|   NULL|\n",
      "+-----------+-------------+-------------+---+------+------+----------+-------------+---------------+----+-------+-------+\n",
      "\n"
     ]
    }
   ],
   "source": [
    "df_final.show()"
   ]
  },
  {
   "cell_type": "code",
   "execution_count": null,
   "id": "30e92285-9d8a-4607-9bfc-4247adb543db",
   "metadata": {},
   "outputs": [],
   "source": []
  }
 ],
 "metadata": {
  "kernelspec": {
   "display_name": "sparkvenv",
   "language": "python",
   "name": "sparkvenv"
  },
  "language_info": {
   "codemirror_mode": {
    "name": "ipython",
    "version": 3
   },
   "file_extension": ".py",
   "mimetype": "text/x-python",
   "name": "python",
   "nbconvert_exporter": "python",
   "pygments_lexer": "ipython3",
   "version": "3.11.5"
  }
 },
 "nbformat": 4,
 "nbformat_minor": 5
}
