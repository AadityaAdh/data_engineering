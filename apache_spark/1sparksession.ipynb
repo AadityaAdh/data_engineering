{
 "cells": [
  {
   "cell_type": "code",
   "execution_count": 1,
   "id": "62594133-e90f-4590-85e7-1bb72f96b8a9",
   "metadata": {
    "tags": []
   },
   "outputs": [],
   "source": [
    "from pyspark.sql import SparkSession\n",
    "\n",
    "#note jailae ni spark chalauda session cahi banaunu parxa"
   ]
  },
  {
   "cell_type": "code",
   "execution_count": 4,
   "id": "227a4860-5695-4298-b76b-b3457b579e77",
   "metadata": {
    "tags": []
   },
   "outputs": [
    {
     "name": "stderr",
     "output_type": "stream",
     "text": [
      "25/01/11 16:09:18 WARN Utils: Your hostname, Aadityas-MacBook-Air.local resolves to a loopback address: 127.0.0.1; using 192.168.1.128 instead (on interface en0)\n",
      "25/01/11 16:09:18 WARN Utils: Set SPARK_LOCAL_IP if you need to bind to another address\n",
      "Setting default log level to \"WARN\".\n",
      "To adjust logging level use sc.setLogLevel(newLevel). For SparkR, use setLogLevel(newLevel).\n",
      "25/01/11 16:09:18 WARN NativeCodeLoader: Unable to load native-hadoop library for your platform... using builtin-java classes where applicable\n",
      "25/01/11 16:09:29 WARN GarbageCollectionMetrics: To enable non-built-in garbage collector(s) List(G1 Concurrent GC), users should configure it(them) to spark.eventLog.gcMetrics.youngGenerationGarbageCollectors or spark.eventLog.gcMetrics.oldGenerationGarbageCollectors\n"
     ]
    }
   ],
   "source": [
    "spark=(\n",
    "SparkSession\n",
    "    .builder\n",
    "    .appName(\"aadityas_app\")\n",
    "    .master(\"local[*]\")\n",
    "    .getOrCreate()\n",
    ")"
   ]
  },
  {
   "cell_type": "markdown",
   "id": "5e7bb31c-6cc9-4f66-afb5-b95af8edc3f0",
   "metadata": {},
   "source": [
    "# as we are executing this code locally so use master as local so aster ma chai where this code wil be executed\n",
    "local[*] is to run spark locally with as many worker threads as logical cores in your machine"
   ]
  },
  {
   "cell_type": "code",
   "execution_count": 8,
   "id": "d20ff410-34c9-4e80-bb45-074415a2510c",
   "metadata": {
    "tags": []
   },
   "outputs": [
    {
     "data": {
      "text/html": [
       "\n",
       "            <div>\n",
       "                <p><b>SparkSession - in-memory</b></p>\n",
       "                \n",
       "        <div>\n",
       "            <p><b>SparkContext</b></p>\n",
       "\n",
       "            <p><a href=\"http://192.168.1.128:4040\">Spark UI</a></p>\n",
       "\n",
       "            <dl>\n",
       "              <dt>Version</dt>\n",
       "                <dd><code>v3.5.4</code></dd>\n",
       "              <dt>Master</dt>\n",
       "                <dd><code>local[*]</code></dd>\n",
       "              <dt>AppName</dt>\n",
       "                <dd><code>aadityas_app</code></dd>\n",
       "            </dl>\n",
       "        </div>\n",
       "        \n",
       "            </div>\n",
       "        "
      ],
      "text/plain": [
       "<pyspark.sql.session.SparkSession at 0x1067be210>"
      ]
     },
     "execution_count": 8,
     "metadata": {},
     "output_type": "execute_result"
    }
   ],
   "source": [
    "#lets check this spark object\n",
    "spark\n",
    "#so session ko info version master appame dekhauxa"
   ]
  },
  {
   "cell_type": "code",
   "execution_count": 9,
   "id": "aca5caf7-e51f-4c30-ad4e-55b3a589c615",
   "metadata": {
    "tags": []
   },
   "outputs": [
    {
     "data": {
      "text/plain": [
       "pyspark.sql.session.SparkSession"
      ]
     },
     "execution_count": 9,
     "metadata": {},
     "output_type": "execute_result"
    }
   ],
   "source": [
    "type(spark)"
   ]
  },
  {
   "cell_type": "markdown",
   "id": "54203c71-e8e5-4f56-a4d9-ad5d5145269e",
   "metadata": {},
   "source": [
    "# pratyek spark session ko lagi spark le spark ui dinxa so open by\n",
    "localhost:4040"
   ]
  },
  {
   "cell_type": "markdown",
   "id": "10031293-3e26-4d37-8fed-1d73f31d67f8",
   "metadata": {},
   "source": [
    "# aaile lai note garam tyo sql/dataframe wala tab tyo spark ui ko"
   ]
  },
  {
   "cell_type": "code",
   "execution_count": 10,
   "id": "e8ece53c-dd73-496c-96df-999e59cb064c",
   "metadata": {
    "tags": []
   },
   "outputs": [],
   "source": [
    "emp_data = [\n",
    "    [\"001\",\"101\",\"John Doe\",\"30\",\"Male\",\"50000\",\"2015-01-01\"],\n",
    "    [\"002\",\"101\",\"Jane Smith\",\"25\",\"Female\",\"45000\",\"2016-02-15\"],\n",
    "    [\"003\",\"102\",\"Bob Brown\",\"35\",\"Male\",\"55000\",\"2014-05-01\"],\n",
    "    [\"004\",\"102\",\"Alice Lee\",\"28\",\"Female\",\"48000\",\"2017-09-30\"],\n",
    "    [\"005\",\"103\",\"Jack Chan\",\"40\",\"Male\",\"60000\",\"2013-04-01\"],\n",
    "    [\"006\",\"103\",\"Jill Wong\",\"32\",\"Female\",\"52000\",\"2018-07-01\"],\n",
    "    [\"007\",\"101\",\"James Johnson\",\"42\",\"Male\",\"70000\",\"2012-03-15\"],\n",
    "    [\"008\",\"102\",\"Kate Kim\",\"29\",\"Female\",\"51000\",\"2019-10-01\"],\n",
    "    [\"009\",\"103\",\"Tom Tan\",\"33\",\"Male\",\"58000\",\"2016-06-01\"],\n",
    "    [\"010\",\"104\",\"Lisa Lee\",\"27\",\"Female\",\"47000\",\"2018-08-01\"],\n",
    "    [\"011\",\"104\",\"David Park\",\"38\",\"Male\",\"65000\",\"2015-11-01\"],\n",
    "    [\"012\",\"105\",\"Susan Chen\",\"31\",\"Female\",\"54000\",\"2017-02-15\"],\n",
    "    [\"013\",\"106\",\"Brian Kim\",\"45\",\"Male\",\"75000\",\"2011-07-01\"],\n",
    "    [\"014\",\"107\",\"Emily Lee\",\"26\",\"Female\",\"46000\",\"2019-01-01\"],\n",
    "    [\"015\",\"106\",\"Michael Lee\",\"37\",\"Male\",\"63000\",\"2014-09-30\"],\n",
    "    [\"016\",\"107\",\"Kelly Zhang\",\"30\",\"Female\",\"49000\",\"2018-04-01\"],\n",
    "    [\"017\",\"105\",\"George Wang\",\"34\",\"Male\",\"57000\",\"2016-03-15\"],\n",
    "    [\"018\",\"104\",\"Nancy Liu\",\"29\",\"Female\",\"50000\",\"2017-06-01\"],\n",
    "    [\"019\",\"103\",\"Steven Chen\",\"36\",\"Male\",\"62000\",\"2015-08-01\"],\n",
    "    [\"020\",\"102\",\"Grace Kim\",\"32\",\"Female\",\"53000\",\"2018-11-01\"]\n",
    "]\n",
    "\n",
    "emp_schema = \"employee_id string, department_id string, name string, age string, gender string, salary string, hire_date string\"\n"
   ]
  },
  {
   "cell_type": "code",
   "execution_count": 12,
   "id": "533a2678-8c4d-450d-bc3d-0797fc9f3256",
   "metadata": {
    "tags": []
   },
   "outputs": [],
   "source": [
    "# so create dataframe with this abobe dataframe\n",
    "emp=spark.createDataFrame(data=emp_data,schema=emp_schema)"
   ]
  },
  {
   "cell_type": "code",
   "execution_count": 13,
   "id": "eef9ca1c-0313-4e48-9c91-1b272b5784a8",
   "metadata": {
    "tags": []
   },
   "outputs": [
    {
     "data": {
      "text/plain": [
       "DataFrame[employee_id: string, department_id: string, name: string, age: string, gender: string, salary: string, hire_date: string]"
      ]
     },
     "execution_count": 13,
     "metadata": {},
     "output_type": "execute_result"
    }
   ],
   "source": [
    "emp"
   ]
  },
  {
   "cell_type": "code",
   "execution_count": null,
   "id": "fe72c774-a6c6-40c9-9edd-8b352147ac52",
   "metadata": {
    "tags": []
   },
   "outputs": [],
   "source": []
  },
  {
   "cell_type": "code",
   "execution_count": 15,
   "id": "59870d5c-7a3a-49ae-ac7a-a5a5c23bc787",
   "metadata": {
    "tags": []
   },
   "outputs": [
    {
     "data": {
      "text/plain": [
       "8"
      ]
     },
     "execution_count": 15,
     "metadata": {},
     "output_type": "execute_result"
    }
   ],
   "source": [
    "#as sparks data in form of partitions so lets check no of partitions\n",
    "emp.rdd.getNumPartitions()"
   ]
  },
  {
   "cell_type": "markdown",
   "id": "426fa014-0664-4906-80fd-9296c27a2c43",
   "metadata": {},
   "source": [
    "# show vanae ko yeuta action ho\n",
    "# so action huni bittikai kunai na kunai query generate vai halxa\n",
    "# aani tya certain no of obs pani create vai halxa \n",
    "# tyo spark ui ko sql/dataframe vanni tab ma herna sakinxa as soon as you do emp.show() tya query haru create vai halxa"
   ]
  },
  {
   "cell_type": "code",
   "execution_count": 16,
   "id": "1e795bc1-da78-42a5-bfc4-bede38dd5108",
   "metadata": {
    "tags": []
   },
   "outputs": [
    {
     "name": "stdout",
     "output_type": "stream",
     "text": [
      "+-----------+-------------+-------------+---+------+------+----------+\n",
      "|employee_id|department_id|         name|age|gender|salary| hire_date|\n",
      "+-----------+-------------+-------------+---+------+------+----------+\n",
      "|        001|          101|     John Doe| 30|  Male| 50000|2015-01-01|\n",
      "|        002|          101|   Jane Smith| 25|Female| 45000|2016-02-15|\n",
      "|        003|          102|    Bob Brown| 35|  Male| 55000|2014-05-01|\n",
      "|        004|          102|    Alice Lee| 28|Female| 48000|2017-09-30|\n",
      "|        005|          103|    Jack Chan| 40|  Male| 60000|2013-04-01|\n",
      "|        006|          103|    Jill Wong| 32|Female| 52000|2018-07-01|\n",
      "|        007|          101|James Johnson| 42|  Male| 70000|2012-03-15|\n",
      "|        008|          102|     Kate Kim| 29|Female| 51000|2019-10-01|\n",
      "|        009|          103|      Tom Tan| 33|  Male| 58000|2016-06-01|\n",
      "|        010|          104|     Lisa Lee| 27|Female| 47000|2018-08-01|\n",
      "|        011|          104|   David Park| 38|  Male| 65000|2015-11-01|\n",
      "|        012|          105|   Susan Chen| 31|Female| 54000|2017-02-15|\n",
      "|        013|          106|    Brian Kim| 45|  Male| 75000|2011-07-01|\n",
      "|        014|          107|    Emily Lee| 26|Female| 46000|2019-01-01|\n",
      "|        015|          106|  Michael Lee| 37|  Male| 63000|2014-09-30|\n",
      "|        016|          107|  Kelly Zhang| 30|Female| 49000|2018-04-01|\n",
      "|        017|          105|  George Wang| 34|  Male| 57000|2016-03-15|\n",
      "|        018|          104|    Nancy Liu| 29|Female| 50000|2017-06-01|\n",
      "|        019|          103|  Steven Chen| 36|  Male| 62000|2015-08-01|\n",
      "|        020|          102|    Grace Kim| 32|Female| 53000|2018-11-01|\n",
      "+-----------+-------------+-------------+---+------+------+----------+\n",
      "\n"
     ]
    }
   ],
   "source": [
    "emp.show()"
   ]
  },
  {
   "cell_type": "markdown",
   "id": "020e9ad0-2651-4447-b645-4eacaa780f1d",
   "metadata": {},
   "source": [
    "# data frame vanae ko immutable hun spark ma so change garna chai mildaina so tei vayae ra inplace vanni chai hudaina like in pandas but tesbata aaru dataframe ta banauna mili halxa"
   ]
  },
  {
   "cell_type": "code",
   "execution_count": 26,
   "id": "027a1d79-2a90-4d1c-8c31-e817e3bcdd4b",
   "metadata": {
    "tags": []
   },
   "outputs": [],
   "source": [
    "#transformation (emp ko salary>50000)\n",
    "\n",
    "emp_final=emp.where(\"salary>50000\")\n",
    "#aaba yedi herni ho vanae spark ui ma aajhai pani (job ho ki query) haru generate vaa xaina which is the concept of lazy execution\n",
    "#so jaba samman action xaina taba samman transformation apply nai hudaina"
   ]
  },
  {
   "cell_type": "code",
   "execution_count": 27,
   "id": "ef7ea27f-e812-4050-9cb2-dc98dc0abdb1",
   "metadata": {
    "tags": []
   },
   "outputs": [
    {
     "name": "stdout",
     "output_type": "stream",
     "text": [
      "+-----------+-------------+-------------+---+------+------+----------+\n",
      "|employee_id|department_id|         name|age|gender|salary| hire_date|\n",
      "+-----------+-------------+-------------+---+------+------+----------+\n",
      "|        003|          102|    Bob Brown| 35|  Male| 55000|2014-05-01|\n",
      "|        005|          103|    Jack Chan| 40|  Male| 60000|2013-04-01|\n",
      "|        006|          103|    Jill Wong| 32|Female| 52000|2018-07-01|\n",
      "|        007|          101|James Johnson| 42|  Male| 70000|2012-03-15|\n",
      "|        008|          102|     Kate Kim| 29|Female| 51000|2019-10-01|\n",
      "|        009|          103|      Tom Tan| 33|  Male| 58000|2016-06-01|\n",
      "|        011|          104|   David Park| 38|  Male| 65000|2015-11-01|\n",
      "|        012|          105|   Susan Chen| 31|Female| 54000|2017-02-15|\n",
      "|        013|          106|    Brian Kim| 45|  Male| 75000|2011-07-01|\n",
      "|        015|          106|  Michael Lee| 37|  Male| 63000|2014-09-30|\n",
      "|        017|          105|  George Wang| 34|  Male| 57000|2016-03-15|\n",
      "|        019|          103|  Steven Chen| 36|  Male| 62000|2015-08-01|\n",
      "|        020|          102|    Grace Kim| 32|Female| 53000|2018-11-01|\n",
      "+-----------+-------------+-------------+---+------+------+----------+\n",
      "\n"
     ]
    }
   ],
   "source": [
    "emp_final.show()\n",
    "#so yo gare paxi matrai query generate hunxa"
   ]
  },
  {
   "cell_type": "code",
   "execution_count": 28,
   "id": "5d2cd78f-52ad-410d-8725-0e29ce2333e9",
   "metadata": {
    "tags": []
   },
   "outputs": [],
   "source": [
    "#writing is another action so yo emp_final lai csv ma convert gardim\n",
    "emp_final.write.format(\"csv\").save(\"data/emp1.csv\")"
   ]
  },
  {
   "cell_type": "code",
   "execution_count": 29,
   "id": "c9f80193-ea1d-4958-93ae-6632eb9abcbd",
   "metadata": {
    "tags": []
   },
   "outputs": [],
   "source": [
    "#so note data partitions mai store vako xa"
   ]
  },
  {
   "cell_type": "code",
   "execution_count": null,
   "id": "0fd1dd58-776b-491c-a77f-b8a4fe2b4234",
   "metadata": {},
   "outputs": [],
   "source": []
  }
 ],
 "metadata": {
  "kernelspec": {
   "display_name": "sparkvenv",
   "language": "python",
   "name": "sparkvenv"
  },
  "language_info": {
   "codemirror_mode": {
    "name": "ipython",
    "version": 3
   },
   "file_extension": ".py",
   "mimetype": "text/x-python",
   "name": "python",
   "nbconvert_exporter": "python",
   "pygments_lexer": "ipython3",
   "version": "3.11.5"
  }
 },
 "nbformat": 4,
 "nbformat_minor": 5
}
