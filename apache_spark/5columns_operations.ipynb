{
 "cells": [
  {
   "cell_type": "code",
   "execution_count": 1,
   "id": "04520aa9-cc0d-45ad-932b-79f7bedceb83",
   "metadata": {
    "tags": []
   },
   "outputs": [
    {
     "name": "stderr",
     "output_type": "stream",
     "text": [
      "25/01/11 17:27:19 WARN Utils: Your hostname, Aadityas-MacBook-Air.local resolves to a loopback address: 127.0.0.1; using 192.168.1.128 instead (on interface en0)\n",
      "25/01/11 17:27:19 WARN Utils: Set SPARK_LOCAL_IP if you need to bind to another address\n",
      "Setting default log level to \"WARN\".\n",
      "To adjust logging level use sc.setLogLevel(newLevel). For SparkR, use setLogLevel(newLevel).\n",
      "25/01/11 17:27:19 WARN NativeCodeLoader: Unable to load native-hadoop library for your platform... using builtin-java classes where applicable\n",
      "25/01/11 17:27:20 WARN Utils: Service 'SparkUI' could not bind on port 4040. Attempting port 4041.\n",
      "25/01/11 17:27:20 WARN Utils: Service 'SparkUI' could not bind on port 4041. Attempting port 4042.\n",
      "25/01/11 17:27:20 WARN Utils: Service 'SparkUI' could not bind on port 4042. Attempting port 4043.\n",
      "25/01/11 17:27:20 WARN Utils: Service 'SparkUI' could not bind on port 4043. Attempting port 4044.\n"
     ]
    }
   ],
   "source": [
    "from pyspark.sql import SparkSession\n",
    "spark=(\n",
    "SparkSession\n",
    "    .builder\n",
    "    .appName(\"basic transformations\")\n",
    "    .master(\"local[*]\")\n",
    "    .getOrCreate()\n",
    ")"
   ]
  },
  {
   "cell_type": "code",
   "execution_count": 2,
   "id": "838c6823-9e98-4ea5-bd3d-544cba59570f",
   "metadata": {
    "tags": []
   },
   "outputs": [
    {
     "name": "stderr",
     "output_type": "stream",
     "text": [
      "25/01/11 17:27:31 WARN GarbageCollectionMetrics: To enable non-built-in garbage collector(s) List(G1 Concurrent GC), users should configure it(them) to spark.eventLog.gcMetrics.youngGenerationGarbageCollectors or spark.eventLog.gcMetrics.oldGenerationGarbageCollectors\n"
     ]
    }
   ],
   "source": [
    "emp_data = [\n",
    "    [\"001\",\"101\",\"John Doe\",\"30\",\"Male\",\"50000\",\"2015-01-01\"],\n",
    "    [\"002\",\"101\",\"Jane Smith\",\"25\",\"Female\",\"45000\",\"2016-02-15\"],\n",
    "    [\"003\",\"102\",\"Bob Brown\",\"35\",\"Male\",\"55000\",\"2014-05-01\"],\n",
    "    [\"004\",\"102\",\"Alice Lee\",\"28\",\"Female\",\"48000\",\"2017-09-30\"],\n",
    "    [\"005\",\"103\",\"Jack Chan\",\"40\",\"Male\",\"60000\",\"2013-04-01\"],\n",
    "    [\"006\",\"103\",\"Jill Wong\",\"32\",\"Female\",\"52000\",\"2018-07-01\"],\n",
    "    [\"007\",\"101\",\"James Johnson\",\"42\",\"Male\",\"70000\",\"2012-03-15\"],\n",
    "    [\"008\",\"102\",\"Kate Kim\",\"29\",\"Female\",\"51000\",\"2019-10-01\"],\n",
    "    [\"009\",\"103\",\"Tom Tan\",\"33\",\"Male\",\"58000\",\"2016-06-01\"],\n",
    "    [\"010\",\"104\",\"Lisa Lee\",\"27\",\"Female\",\"47000\",\"2018-08-01\"],\n",
    "    [\"011\",\"104\",\"David Park\",\"38\",\"Male\",\"65000\",\"2015-11-01\"],\n",
    "    [\"012\",\"105\",\"Susan Chen\",\"31\",\"Female\",\"54000\",\"2017-02-15\"],\n",
    "    [\"013\",\"106\",\"Brian Kim\",\"45\",\"Male\",\"75000\",\"2011-07-01\"],\n",
    "    [\"014\",\"107\",\"Emily Lee\",\"26\",\"Female\",\"46000\",\"2019-01-01\"],\n",
    "    [\"015\",\"106\",\"Michael Lee\",\"37\",\"Male\",\"63000\",\"2014-09-30\"],\n",
    "    [\"016\",\"107\",\"Kelly Zhang\",\"30\",\"Female\",\"49000\",\"2018-04-01\"],\n",
    "    [\"017\",\"105\",\"George Wang\",\"34\",\"Male\",\"57000\",\"2016-03-15\"],\n",
    "    [\"018\",\"104\",\"Nancy Liu\",\"29\",\"Female\",\"50000\",\"2017-06-01\"],\n",
    "    [\"019\",\"103\",\"Steven Chen\",\"36\",\"Male\",\"62000\",\"2015-08-01\"],\n",
    "    [\"020\",\"102\",\"Grace Kim\",\"32\",\"Female\",\"53000\",\"2018-11-01\"]\n",
    "]\n",
    "\n",
    "emp_schema = \"employee_id string, department_id string, name string, age string, gender string, salary string, hire_date string\"\n"
   ]
  },
  {
   "cell_type": "code",
   "execution_count": 3,
   "id": "3097e1ae-21a6-4bea-99fe-a84aa2c311ec",
   "metadata": {
    "tags": []
   },
   "outputs": [],
   "source": [
    "emp=spark.createDataFrame(data=emp_data,schema=emp_schema)"
   ]
  },
  {
   "cell_type": "code",
   "execution_count": 4,
   "id": "601ce514-2f3c-47a7-8b97-a0c8f3a73806",
   "metadata": {
    "tags": []
   },
   "outputs": [
    {
     "name": "stderr",
     "output_type": "stream",
     "text": [
      "                                                                                \r"
     ]
    },
    {
     "name": "stdout",
     "output_type": "stream",
     "text": [
      "+-----------+-------------+-------------+---+------+------+----------+\n",
      "|employee_id|department_id|         name|age|gender|salary| hire_date|\n",
      "+-----------+-------------+-------------+---+------+------+----------+\n",
      "|        001|          101|     John Doe| 30|  Male| 50000|2015-01-01|\n",
      "|        002|          101|   Jane Smith| 25|Female| 45000|2016-02-15|\n",
      "|        003|          102|    Bob Brown| 35|  Male| 55000|2014-05-01|\n",
      "|        004|          102|    Alice Lee| 28|Female| 48000|2017-09-30|\n",
      "|        005|          103|    Jack Chan| 40|  Male| 60000|2013-04-01|\n",
      "|        006|          103|    Jill Wong| 32|Female| 52000|2018-07-01|\n",
      "|        007|          101|James Johnson| 42|  Male| 70000|2012-03-15|\n",
      "|        008|          102|     Kate Kim| 29|Female| 51000|2019-10-01|\n",
      "|        009|          103|      Tom Tan| 33|  Male| 58000|2016-06-01|\n",
      "|        010|          104|     Lisa Lee| 27|Female| 47000|2018-08-01|\n",
      "|        011|          104|   David Park| 38|  Male| 65000|2015-11-01|\n",
      "|        012|          105|   Susan Chen| 31|Female| 54000|2017-02-15|\n",
      "|        013|          106|    Brian Kim| 45|  Male| 75000|2011-07-01|\n",
      "|        014|          107|    Emily Lee| 26|Female| 46000|2019-01-01|\n",
      "|        015|          106|  Michael Lee| 37|  Male| 63000|2014-09-30|\n",
      "|        016|          107|  Kelly Zhang| 30|Female| 49000|2018-04-01|\n",
      "|        017|          105|  George Wang| 34|  Male| 57000|2016-03-15|\n",
      "|        018|          104|    Nancy Liu| 29|Female| 50000|2017-06-01|\n",
      "|        019|          103|  Steven Chen| 36|  Male| 62000|2015-08-01|\n",
      "|        020|          102|    Grace Kim| 32|Female| 53000|2018-11-01|\n",
      "+-----------+-------------+-------------+---+------+------+----------+\n",
      "\n"
     ]
    }
   ],
   "source": [
    "emp.show()"
   ]
  },
  {
   "cell_type": "code",
   "execution_count": 8,
   "id": "1ddba1f4-e78e-4352-a7c7-4b30c2061363",
   "metadata": {
    "tags": []
   },
   "outputs": [],
   "source": [
    "from pyspark.sql.functions import expr"
   ]
  },
  {
   "cell_type": "code",
   "execution_count": 22,
   "id": "03eac8bd-a951-483a-bd9b-7909d5be8cda",
   "metadata": {
    "tags": []
   },
   "outputs": [],
   "source": [
    "# casting clumns\n",
    "# select employee_id, name, age, cast(salary as double) as salary from emp\n",
    "emp_casted=emp.select(emp[\"employee_id\"],emp[\"name\"],emp[\"age\"],expr(\"CAST (salary as int)\"))\n",
    "\n",
    "#confusion=syedi multiple dataframe xa aani salary as int xa vanae kasko salary linxa\n",
    "#obviously aagadi emp.select garya xa vanae paxi emp kai ta salary linxa ni\n",
    "# as select ....... from emp garya jastai ta ho ni"
   ]
  },
  {
   "cell_type": "code",
   "execution_count": 10,
   "id": "02f62b4f-fd47-4a5c-8027-e50c54090962",
   "metadata": {
    "tags": []
   },
   "outputs": [
    {
     "name": "stdout",
     "output_type": "stream",
     "text": [
      "+-----------+-------------+---+------+\n",
      "|employee_id|         name|age|salary|\n",
      "+-----------+-------------+---+------+\n",
      "|        001|     John Doe| 30| 50000|\n",
      "|        002|   Jane Smith| 25| 45000|\n",
      "|        003|    Bob Brown| 35| 55000|\n",
      "|        004|    Alice Lee| 28| 48000|\n",
      "|        005|    Jack Chan| 40| 60000|\n",
      "|        006|    Jill Wong| 32| 52000|\n",
      "|        007|James Johnson| 42| 70000|\n",
      "|        008|     Kate Kim| 29| 51000|\n",
      "|        009|      Tom Tan| 33| 58000|\n",
      "|        010|     Lisa Lee| 27| 47000|\n",
      "|        011|   David Park| 38| 65000|\n",
      "|        012|   Susan Chen| 31| 54000|\n",
      "|        013|    Brian Kim| 45| 75000|\n",
      "|        014|    Emily Lee| 26| 46000|\n",
      "|        015|  Michael Lee| 37| 63000|\n",
      "|        016|  Kelly Zhang| 30| 49000|\n",
      "|        017|  George Wang| 34| 57000|\n",
      "|        018|    Nancy Liu| 29| 50000|\n",
      "|        019|  Steven Chen| 36| 62000|\n",
      "|        020|    Grace Kim| 32| 53000|\n",
      "+-----------+-------------+---+------+\n",
      "\n"
     ]
    }
   ],
   "source": [
    "emp_casted.show()"
   ]
  },
  {
   "cell_type": "markdown",
   "id": "dcd02a74-a93a-4b56-ad40-a0509bfcad55",
   "metadata": {},
   "source": [
    "# adding or overriding columns\n",
    "        withcomumn()\n",
    "        \n",
    "to add new columsn or override existing columns\n"
   ]
  },
  {
   "cell_type": "code",
   "execution_count": 15,
   "id": "2c89d800-4a33-4851-97aa-89375572d76d",
   "metadata": {
    "tags": []
   },
   "outputs": [],
   "source": [
    "# select employee_id, name, age, salary, (salary * 0.2) as tax from emp_casted\n",
    "emp_taxed=emp_casted.withColumn(\"tax\",emp_casted[\"salary\"]*0.5)"
   ]
  },
  {
   "cell_type": "code",
   "execution_count": 16,
   "id": "797febe7-503b-4c4c-a2ba-a882c1980e0d",
   "metadata": {
    "tags": []
   },
   "outputs": [
    {
     "name": "stdout",
     "output_type": "stream",
     "text": [
      "+-----------+-------------+---+------+-------+\n",
      "|employee_id|         name|age|salary|    tax|\n",
      "+-----------+-------------+---+------+-------+\n",
      "|        001|     John Doe| 30| 50000|25000.0|\n",
      "|        002|   Jane Smith| 25| 45000|22500.0|\n",
      "|        003|    Bob Brown| 35| 55000|27500.0|\n",
      "|        004|    Alice Lee| 28| 48000|24000.0|\n",
      "|        005|    Jack Chan| 40| 60000|30000.0|\n",
      "|        006|    Jill Wong| 32| 52000|26000.0|\n",
      "|        007|James Johnson| 42| 70000|35000.0|\n",
      "|        008|     Kate Kim| 29| 51000|25500.0|\n",
      "|        009|      Tom Tan| 33| 58000|29000.0|\n",
      "|        010|     Lisa Lee| 27| 47000|23500.0|\n",
      "|        011|   David Park| 38| 65000|32500.0|\n",
      "|        012|   Susan Chen| 31| 54000|27000.0|\n",
      "|        013|    Brian Kim| 45| 75000|37500.0|\n",
      "|        014|    Emily Lee| 26| 46000|23000.0|\n",
      "|        015|  Michael Lee| 37| 63000|31500.0|\n",
      "|        016|  Kelly Zhang| 30| 49000|24500.0|\n",
      "|        017|  George Wang| 34| 57000|28500.0|\n",
      "|        018|    Nancy Liu| 29| 50000|25000.0|\n",
      "|        019|  Steven Chen| 36| 62000|31000.0|\n",
      "|        020|    Grace Kim| 32| 53000|26500.0|\n",
      "+-----------+-------------+---+------+-------+\n",
      "\n"
     ]
    }
   ],
   "source": [
    "emp_taxed.show()"
   ]
  },
  {
   "cell_type": "code",
   "execution_count": 17,
   "id": "849e541e-9bad-492a-bf86-b479ca5994fc",
   "metadata": {
    "tags": []
   },
   "outputs": [
    {
     "name": "stdout",
     "output_type": "stream",
     "text": [
      "+-----------+-------------+---+------+-------+\n",
      "|employee_id|         name|age|salary|    tax|\n",
      "+-----------+-------------+---+------+-------+\n",
      "|        001|     John Doe| 30| 50000|10000.0|\n",
      "|        002|   Jane Smith| 25| 45000| 9000.0|\n",
      "|        003|    Bob Brown| 35| 55000|11000.0|\n",
      "|        004|    Alice Lee| 28| 48000| 9600.0|\n",
      "|        005|    Jack Chan| 40| 60000|12000.0|\n",
      "|        006|    Jill Wong| 32| 52000|10400.0|\n",
      "|        007|James Johnson| 42| 70000|14000.0|\n",
      "|        008|     Kate Kim| 29| 51000|10200.0|\n",
      "|        009|      Tom Tan| 33| 58000|11600.0|\n",
      "|        010|     Lisa Lee| 27| 47000| 9400.0|\n",
      "|        011|   David Park| 38| 65000|13000.0|\n",
      "|        012|   Susan Chen| 31| 54000|10800.0|\n",
      "|        013|    Brian Kim| 45| 75000|15000.0|\n",
      "|        014|    Emily Lee| 26| 46000| 9200.0|\n",
      "|        015|  Michael Lee| 37| 63000|12600.0|\n",
      "|        016|  Kelly Zhang| 30| 49000| 9800.0|\n",
      "|        017|  George Wang| 34| 57000|11400.0|\n",
      "|        018|    Nancy Liu| 29| 50000|10000.0|\n",
      "|        019|  Steven Chen| 36| 62000|12400.0|\n",
      "|        020|    Grace Kim| 32| 53000|10600.0|\n",
      "+-----------+-------------+---+------+-------+\n",
      "\n"
     ]
    }
   ],
   "source": [
    "#overriding existing columns\n",
    "emp_taxed=emp_casted.withColumn(\"tax\",emp_casted[\"salary\"]*0.2)\n",
    "emp_taxed.show()"
   ]
  },
  {
   "cell_type": "markdown",
   "id": "b0c7c553-482c-46b2-ab2d-a212dbd7bd13",
   "metadata": {},
   "source": [
    "# literals\n",
    "In PySpark, **literals** represent fixed values (constants) used in DataFrame operations. They allow you to include constant values in your DataFrame transformations or queries.\n",
    "\n",
    "The `lit` function from the `pyspark.sql.functions` module is used to create literals in PySpark. It is useful when you want to include a fixed value or a constant column in a DataFrame operation.\n",
    "\n",
    "---\n",
    "\n",
    "### **Key Features of Literals (`lit`)**\n",
    "1. **Fixed Values**: Represent constant values.\n",
    "2. **Flexible Use**: Can be combined with DataFrame columns for transformations, filtering, or calculations.\n",
    "3. **Column Creation**: Create new columns with constant values.\n",
    "\n",
    "---\n",
    "\n",
    "### **How to Use Literals (`lit`)**\n",
    "\n",
    "#### **1. Importing `lit`**\n",
    "```python\n",
    "from pyspark.sql.functions import lit\n",
    "```\n",
    "\n",
    "#### **2. Adding a Constant Column**\n",
    "You can add a new column to a DataFrame with a fixed value.\n",
    "```python\n",
    "# Sample DataFrame\n",
    "data = [(\"Alice\", 1), (\"Bob\", 2)]\n",
    "columns = [\"Name\", \"Value\"]\n",
    "df = spark.createDataFrame(data, columns)\n",
    "\n",
    "# Add a constant column\n",
    "df_with_literal = df.withColumn(\"Country\", lit(\"USA\"))\n",
    "df_with_literal.show()\n",
    "```\n",
    "\n",
    "**Output:**\n",
    "```\n",
    "+-----+-----+-------+\n",
    "| Name|Value|Country|\n",
    "+-----+-----+-------+\n",
    "|Alice|    1|    USA|\n",
    "|  Bob|    2|    USA|\n",
    "+-----+-----+-------+\n",
    "```\n",
    "\n",
    "---\n",
    "\n",
    "#### **3. Using `lit` in Expressions**\n",
    "Combine `lit` with other columns in transformations.\n",
    "```python\n",
    "# Add 10 to the Value column\n",
    "df_with_calculation = df.withColumn(\"UpdatedValue\", df[\"Value\"] + lit(10))\n",
    "df_with_calculation.show()\n",
    "```\n",
    "\n",
    "**Output:**\n",
    "```\n",
    "+-----+-----+------------+\n",
    "| Name|Value|UpdatedValue|\n",
    "+-----+-----+------------+\n",
    "|Alice|    1|          11|\n",
    "|  Bob|    2|          12|\n",
    "+-----+-----+------------+\n",
    "```\n",
    "\n",
    "---\n",
    "\n",
    "#### **4. Filtering Rows with `lit`**\n",
    "Use `lit` for constant values in filtering conditions.\n",
    "```python\n",
    "# Filter rows where Value is greater than 1\n",
    "df_filtered = df.filter(df[\"Value\"] > lit(1))\n",
    "df_filtered.show()\n",
    "```\n",
    "\n",
    "**Output:**\n",
    "```\n",
    "+----+-----+\n",
    "|Name|Value|\n",
    "+----+-----+\n",
    "| Bob|    2|\n",
    "+----+-----+\n",
    "```\n",
    "\n",
    "---\n",
    "\n",
    "#### **5. Using `lit` for SQL Queries**\n",
    "```python\n",
    "# Add a column with a literal and perform a query\n",
    "df_with_literal.createOrReplaceTempView(\"people\")\n",
    "result = spark.sql(\"SELECT Name, Value, 'Constant' AS Type FROM people\")\n",
    "result.show()\n",
    "```\n",
    "\n",
    "**Output:**\n",
    "```\n",
    "+-----+-----+--------+\n",
    "| Name|Value|    Type|\n",
    "+-----+-----+--------+\n",
    "|Alice|    1|Constant|\n",
    "|  Bob|    2|Constant|\n",
    "+-----+-----+--------+\n",
    "```\n",
    "\n",
    "---\n",
    "\n",
    "### **Why Use `lit`?**\n",
    "- **Explicit Constants**: Ensures constants are treated properly in DataFrame operations.\n",
    "- **Compatibility**: Avoids errors that may occur when mixing raw Python constants with Spark columns.\n",
    "- **SQL-Like Behavior**: Helps replicate SQL-like queries where constants are common.\n",
    "\n",
    "---\n",
    "\n",
    "### **Example Scenarios**\n",
    "1. Adding a timestamp column with the same value for all rows.\n",
    "2. Including constant metadata in a DataFrame.\n",
    "3. Performing arithmetic or logical operations with a fixed value.\n",
    "\n",
    "Let me know if you'd like more examples or detailed explanations!"
   ]
  },
  {
   "cell_type": "code",
   "execution_count": 18,
   "id": "497eb84e-2c75-4761-a609-0d2c8622fa29",
   "metadata": {
    "tags": []
   },
   "outputs": [],
   "source": [
    "from pyspark.sql.functions import lit"
   ]
  },
  {
   "cell_type": "code",
   "execution_count": 19,
   "id": "eb48b639-8e33-4229-9e8b-8d2af4ad3044",
   "metadata": {
    "tags": []
   },
   "outputs": [],
   "source": [
    "# select employee_id, name, age, salary, tax, 1 as countrycode, 'Nepal' as contryname from emp_taxed\n",
    "emp_new_cols = emp_taxed.withColumn(\"countrycode\", lit(1)).withColumn(\"countryname\", lit('Nepal'))"
   ]
  },
  {
   "cell_type": "code",
   "execution_count": 21,
   "id": "b177388a-36d3-4d71-a626-f0d08abb0d9a",
   "metadata": {
    "tags": []
   },
   "outputs": [
    {
     "name": "stdout",
     "output_type": "stream",
     "text": [
      "+-----------+-------------+---+------+-------+-----------+-----------+\n",
      "|employee_id|         name|age|salary|    tax|countrycode|countryname|\n",
      "+-----------+-------------+---+------+-------+-----------+-----------+\n",
      "|        001|     John Doe| 30| 50000|10000.0|          1|      Nepal|\n",
      "|        002|   Jane Smith| 25| 45000| 9000.0|          1|      Nepal|\n",
      "|        003|    Bob Brown| 35| 55000|11000.0|          1|      Nepal|\n",
      "|        004|    Alice Lee| 28| 48000| 9600.0|          1|      Nepal|\n",
      "|        005|    Jack Chan| 40| 60000|12000.0|          1|      Nepal|\n",
      "|        006|    Jill Wong| 32| 52000|10400.0|          1|      Nepal|\n",
      "|        007|James Johnson| 42| 70000|14000.0|          1|      Nepal|\n",
      "|        008|     Kate Kim| 29| 51000|10200.0|          1|      Nepal|\n",
      "|        009|      Tom Tan| 33| 58000|11600.0|          1|      Nepal|\n",
      "|        010|     Lisa Lee| 27| 47000| 9400.0|          1|      Nepal|\n",
      "|        011|   David Park| 38| 65000|13000.0|          1|      Nepal|\n",
      "|        012|   Susan Chen| 31| 54000|10800.0|          1|      Nepal|\n",
      "|        013|    Brian Kim| 45| 75000|15000.0|          1|      Nepal|\n",
      "|        014|    Emily Lee| 26| 46000| 9200.0|          1|      Nepal|\n",
      "|        015|  Michael Lee| 37| 63000|12600.0|          1|      Nepal|\n",
      "|        016|  Kelly Zhang| 30| 49000| 9800.0|          1|      Nepal|\n",
      "|        017|  George Wang| 34| 57000|11400.0|          1|      Nepal|\n",
      "|        018|    Nancy Liu| 29| 50000|10000.0|          1|      Nepal|\n",
      "|        019|  Steven Chen| 36| 62000|12400.0|          1|      Nepal|\n",
      "|        020|    Grace Kim| 32| 53000|10600.0|          1|      Nepal|\n",
      "+-----------+-------------+---+------+-------+-----------+-----------+\n",
      "\n"
     ]
    }
   ],
   "source": [
    "emp_new_cols.show()"
   ]
  },
  {
   "cell_type": "markdown",
   "id": "740e3949-3a90-4248-9279-5248662c9ed3",
   "metadata": {},
   "source": [
    "# realistically we create column as\n"
   ]
  },
  {
   "cell_type": "code",
   "execution_count": 24,
   "id": "31f61e78-ee7f-432e-b270-f1f12ddf057e",
   "metadata": {
    "tags": []
   },
   "outputs": [],
   "source": [
    "columns = {\n",
    "    \"tax\" : emp[\"salary\"] * 0.2 ,\n",
    "    \"oneNumber\" : lit(1), \n",
    "    \"columnTwo\" : lit(\"two\")\n",
    "}\n",
    "\n",
    "emp_final = emp.withColumns(columns)"
   ]
  },
  {
   "cell_type": "code",
   "execution_count": 25,
   "id": "134a1344-5610-4748-b9ba-248d918d90ec",
   "metadata": {
    "tags": []
   },
   "outputs": [
    {
     "name": "stdout",
     "output_type": "stream",
     "text": [
      "+-----------+-------------+-------------+---+------+------+----------+-------+---------+---------+\n",
      "|employee_id|department_id|         name|age|gender|salary| hire_date|    tax|oneNumber|columnTwo|\n",
      "+-----------+-------------+-------------+---+------+------+----------+-------+---------+---------+\n",
      "|        001|          101|     John Doe| 30|  Male| 50000|2015-01-01|10000.0|        1|      two|\n",
      "|        002|          101|   Jane Smith| 25|Female| 45000|2016-02-15| 9000.0|        1|      two|\n",
      "|        003|          102|    Bob Brown| 35|  Male| 55000|2014-05-01|11000.0|        1|      two|\n",
      "|        004|          102|    Alice Lee| 28|Female| 48000|2017-09-30| 9600.0|        1|      two|\n",
      "|        005|          103|    Jack Chan| 40|  Male| 60000|2013-04-01|12000.0|        1|      two|\n",
      "|        006|          103|    Jill Wong| 32|Female| 52000|2018-07-01|10400.0|        1|      two|\n",
      "|        007|          101|James Johnson| 42|  Male| 70000|2012-03-15|14000.0|        1|      two|\n",
      "|        008|          102|     Kate Kim| 29|Female| 51000|2019-10-01|10200.0|        1|      two|\n",
      "|        009|          103|      Tom Tan| 33|  Male| 58000|2016-06-01|11600.0|        1|      two|\n",
      "|        010|          104|     Lisa Lee| 27|Female| 47000|2018-08-01| 9400.0|        1|      two|\n",
      "|        011|          104|   David Park| 38|  Male| 65000|2015-11-01|13000.0|        1|      two|\n",
      "|        012|          105|   Susan Chen| 31|Female| 54000|2017-02-15|10800.0|        1|      two|\n",
      "|        013|          106|    Brian Kim| 45|  Male| 75000|2011-07-01|15000.0|        1|      two|\n",
      "|        014|          107|    Emily Lee| 26|Female| 46000|2019-01-01| 9200.0|        1|      two|\n",
      "|        015|          106|  Michael Lee| 37|  Male| 63000|2014-09-30|12600.0|        1|      two|\n",
      "|        016|          107|  Kelly Zhang| 30|Female| 49000|2018-04-01| 9800.0|        1|      two|\n",
      "|        017|          105|  George Wang| 34|  Male| 57000|2016-03-15|11400.0|        1|      two|\n",
      "|        018|          104|    Nancy Liu| 29|Female| 50000|2017-06-01|10000.0|        1|      two|\n",
      "|        019|          103|  Steven Chen| 36|  Male| 62000|2015-08-01|12400.0|        1|      two|\n",
      "|        020|          102|    Grace Kim| 32|Female| 53000|2018-11-01|10600.0|        1|      two|\n",
      "+-----------+-------------+-------------+---+------+------+----------+-------+---------+---------+\n",
      "\n"
     ]
    }
   ],
   "source": [
    "emp_final.show()"
   ]
  },
  {
   "cell_type": "markdown",
   "id": "f436fcd3-ffda-40b8-8d0a-2a8fc9fcf0f9",
   "metadata": {},
   "source": [
    "# dropping columns"
   ]
  },
  {
   "cell_type": "code",
   "execution_count": 28,
   "id": "7251b741-6b66-459d-9c5b-77ecc0528be5",
   "metadata": {
    "tags": []
   },
   "outputs": [],
   "source": [
    "emp_dropped = emp_final.drop(\"tax\", \"oneNumber\")\n",
    "#kun kun column drop garnu parya"
   ]
  },
  {
   "cell_type": "code",
   "execution_count": 27,
   "id": "c7402810-bf76-4f05-9cb6-fc05e1229bec",
   "metadata": {
    "tags": []
   },
   "outputs": [
    {
     "name": "stdout",
     "output_type": "stream",
     "text": [
      "+-----------+-------------+-------------+---+------+------+----------+---------+\n",
      "|employee_id|department_id|         name|age|gender|salary| hire_date|columnTwo|\n",
      "+-----------+-------------+-------------+---+------+------+----------+---------+\n",
      "|        001|          101|     John Doe| 30|  Male| 50000|2015-01-01|      two|\n",
      "|        002|          101|   Jane Smith| 25|Female| 45000|2016-02-15|      two|\n",
      "|        003|          102|    Bob Brown| 35|  Male| 55000|2014-05-01|      two|\n",
      "|        004|          102|    Alice Lee| 28|Female| 48000|2017-09-30|      two|\n",
      "|        005|          103|    Jack Chan| 40|  Male| 60000|2013-04-01|      two|\n",
      "|        006|          103|    Jill Wong| 32|Female| 52000|2018-07-01|      two|\n",
      "|        007|          101|James Johnson| 42|  Male| 70000|2012-03-15|      two|\n",
      "|        008|          102|     Kate Kim| 29|Female| 51000|2019-10-01|      two|\n",
      "|        009|          103|      Tom Tan| 33|  Male| 58000|2016-06-01|      two|\n",
      "|        010|          104|     Lisa Lee| 27|Female| 47000|2018-08-01|      two|\n",
      "|        011|          104|   David Park| 38|  Male| 65000|2015-11-01|      two|\n",
      "|        012|          105|   Susan Chen| 31|Female| 54000|2017-02-15|      two|\n",
      "|        013|          106|    Brian Kim| 45|  Male| 75000|2011-07-01|      two|\n",
      "|        014|          107|    Emily Lee| 26|Female| 46000|2019-01-01|      two|\n",
      "|        015|          106|  Michael Lee| 37|  Male| 63000|2014-09-30|      two|\n",
      "|        016|          107|  Kelly Zhang| 30|Female| 49000|2018-04-01|      two|\n",
      "|        017|          105|  George Wang| 34|  Male| 57000|2016-03-15|      two|\n",
      "|        018|          104|    Nancy Liu| 29|Female| 50000|2017-06-01|      two|\n",
      "|        019|          103|  Steven Chen| 36|  Male| 62000|2015-08-01|      two|\n",
      "|        020|          102|    Grace Kim| 32|Female| 53000|2018-11-01|      two|\n",
      "+-----------+-------------+-------------+---+------+------+----------+---------+\n",
      "\n"
     ]
    }
   ],
   "source": [
    "emp_dropped.show()"
   ]
  },
  {
   "cell_type": "code",
   "execution_count": null,
   "id": "578238ca-6ee4-4bc1-aba5-3162fa102e48",
   "metadata": {},
   "outputs": [],
   "source": []
  }
 ],
 "metadata": {
  "kernelspec": {
   "display_name": "sparkvenv",
   "language": "python",
   "name": "sparkvenv"
  },
  "language_info": {
   "codemirror_mode": {
    "name": "ipython",
    "version": 3
   },
   "file_extension": ".py",
   "mimetype": "text/x-python",
   "name": "python",
   "nbconvert_exporter": "python",
   "pygments_lexer": "ipython3",
   "version": "3.11.5"
  }
 },
 "nbformat": 4,
 "nbformat_minor": 5
}
