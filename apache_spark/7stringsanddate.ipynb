{
 "cells": [
  {
   "cell_type": "code",
   "execution_count": 1,
   "id": "c9011528-8b56-4fbe-a522-81aa15e01d40",
   "metadata": {
    "tags": []
   },
   "outputs": [
    {
     "name": "stderr",
     "output_type": "stream",
     "text": [
      "25/01/11 18:25:59 WARN Utils: Your hostname, Aadityas-MacBook-Air.local resolves to a loopback address: 127.0.0.1; using 192.168.1.128 instead (on interface en0)\n",
      "25/01/11 18:25:59 WARN Utils: Set SPARK_LOCAL_IP if you need to bind to another address\n",
      "Setting default log level to \"WARN\".\n",
      "To adjust logging level use sc.setLogLevel(newLevel). For SparkR, use setLogLevel(newLevel).\n",
      "25/01/11 18:25:59 WARN NativeCodeLoader: Unable to load native-hadoop library for your platform... using builtin-java classes where applicable\n",
      "25/01/11 18:25:59 WARN Utils: Service 'SparkUI' could not bind on port 4040. Attempting port 4041.\n",
      "25/01/11 18:25:59 WARN Utils: Service 'SparkUI' could not bind on port 4041. Attempting port 4042.\n",
      "25/01/11 18:25:59 WARN Utils: Service 'SparkUI' could not bind on port 4042. Attempting port 4043.\n",
      "25/01/11 18:25:59 WARN Utils: Service 'SparkUI' could not bind on port 4043. Attempting port 4044.\n",
      "25/01/11 18:25:59 WARN Utils: Service 'SparkUI' could not bind on port 4044. Attempting port 4045.\n",
      "25/01/11 18:25:59 WARN Utils: Service 'SparkUI' could not bind on port 4045. Attempting port 4046.\n",
      "                                                                                \r"
     ]
    },
    {
     "name": "stdout",
     "output_type": "stream",
     "text": [
      "+-----------+-------------+-------------+---+------+------+----------+\n",
      "|employee_id|department_id|         name|age|gender|salary| hire_date|\n",
      "+-----------+-------------+-------------+---+------+------+----------+\n",
      "|        001|          101|     John Doe| 30|  Male| 50000|2015-01-01|\n",
      "|        002|          101|   Jane Smith| 25|Female| 45000|2016-02-15|\n",
      "|        003|          102|    Bob Brown| 35|  Male| 55000|2014-05-01|\n",
      "|        004|          102|    Alice Lee| 28|Female| 48000|2017-09-30|\n",
      "|        005|          103|    Jack Chan| 40|  Male| 60000|2013-04-01|\n",
      "|        006|          103|    Jill Wong| 32|Female| 52000|2018-07-01|\n",
      "|        007|          101|James Johnson| 42|  Male| 70000|2012-03-15|\n",
      "|        008|          102|     Kate Kim| 29|Female| 51000|2019-10-01|\n",
      "|        009|          103|      Tom Tan| 33|  Male| 58000|2016-06-01|\n",
      "|        010|          104|     Lisa Lee| 27|Female| 47000|2018-08-01|\n",
      "|        011|          104|   David Park| 38|  Male| 65000|2015-11-01|\n",
      "|        012|          105|   Susan Chen| 31|Female| 54000|2017-02-15|\n",
      "|        013|          106|    Brian Kim| 45|  Male| 75000|2011-07-01|\n",
      "|        014|          107|    Emily Lee| 26|Female| 46000|2019-01-01|\n",
      "|        015|          106|  Michael Lee| 37|  Male| 63000|2014-09-30|\n",
      "|        016|          107|  Kelly Zhang| 30|Female| 49000|2018-04-01|\n",
      "|        017|          105|  George Wang| 34|  Male| 57000|2016-03-15|\n",
      "|        018|          104|    Nancy Liu| 29|Female| 50000|2017-06-01|\n",
      "|        019|          103|  Steven Chen| 36|  Male| 62000|2015-08-01|\n",
      "|        020|          102|    Grace Kim| 32|Female| 53000|2018-11-01|\n",
      "+-----------+-------------+-------------+---+------+------+----------+\n",
      "\n"
     ]
    },
    {
     "name": "stderr",
     "output_type": "stream",
     "text": [
      "25/01/11 18:26:11 WARN GarbageCollectionMetrics: To enable non-built-in garbage collector(s) List(G1 Concurrent GC), users should configure it(them) to spark.eventLog.gcMetrics.youngGenerationGarbageCollectors or spark.eventLog.gcMetrics.oldGenerationGarbageCollectors\n"
     ]
    }
   ],
   "source": [
    "from pyspark.sql import SparkSession\n",
    "spark=(\n",
    "SparkSession\n",
    "    .builder\n",
    "    .appName(\"basic transformations\")\n",
    "    .master(\"local[*]\")\n",
    "    .getOrCreate()\n",
    ")\n",
    "emp_data = [\n",
    "    [\"001\",\"101\",\"John Doe\",\"30\",\"Male\",\"50000\",\"2015-01-01\"],\n",
    "    [\"002\",\"101\",\"Jane Smith\",\"25\",\"Female\",\"45000\",\"2016-02-15\"],\n",
    "    [\"003\",\"102\",\"Bob Brown\",\"35\",\"Male\",\"55000\",\"2014-05-01\"],\n",
    "    [\"004\",\"102\",\"Alice Lee\",\"28\",\"Female\",\"48000\",\"2017-09-30\"],\n",
    "    [\"005\",\"103\",\"Jack Chan\",\"40\",\"Male\",\"60000\",\"2013-04-01\"],\n",
    "    [\"006\",\"103\",\"Jill Wong\",\"32\",\"Female\",\"52000\",\"2018-07-01\"],\n",
    "    [\"007\",\"101\",\"James Johnson\",\"42\",\"Male\",\"70000\",\"2012-03-15\"],\n",
    "    [\"008\",\"102\",\"Kate Kim\",\"29\",\"Female\",\"51000\",\"2019-10-01\"],\n",
    "    [\"009\",\"103\",\"Tom Tan\",\"33\",\"Male\",\"58000\",\"2016-06-01\"],\n",
    "    [\"010\",\"104\",\"Lisa Lee\",\"27\",\"Female\",\"47000\",\"2018-08-01\"],\n",
    "    [\"011\",\"104\",\"David Park\",\"38\",\"Male\",\"65000\",\"2015-11-01\"],\n",
    "    [\"012\",\"105\",\"Susan Chen\",\"31\",\"Female\",\"54000\",\"2017-02-15\"],\n",
    "    [\"013\",\"106\",\"Brian Kim\",\"45\",\"Male\",\"75000\",\"2011-07-01\"],\n",
    "    [\"014\",\"107\",\"Emily Lee\",\"26\",\"Female\",\"46000\",\"2019-01-01\"],\n",
    "    [\"015\",\"106\",\"Michael Lee\",\"37\",\"Male\",\"63000\",\"2014-09-30\"],\n",
    "    [\"016\",\"107\",\"Kelly Zhang\",\"30\",\"Female\",\"49000\",\"2018-04-01\"],\n",
    "    [\"017\",\"105\",\"George Wang\",\"34\",\"Male\",\"57000\",\"2016-03-15\"],\n",
    "    [\"018\",\"104\",\"Nancy Liu\",\"29\",\"Female\",\"50000\",\"2017-06-01\"],\n",
    "    [\"019\",\"103\",\"Steven Chen\",\"36\",\"Male\",\"62000\",\"2015-08-01\"],\n",
    "    [\"020\",\"102\",\"Grace Kim\",\"32\",\"Female\",\"53000\",\"2018-11-01\"]\n",
    "]\n",
    "\n",
    "emp_schema = \"employee_id string, department_id string, name string, age string, gender string, salary string, hire_date string\"\n",
    "emp=spark.createDataFrame(data=emp_data,schema=emp_schema)\n",
    "emp.show()"
   ]
  },
  {
   "cell_type": "code",
   "execution_count": 6,
   "id": "e9191562-50f3-427e-8d0e-cf6cb4f93cb9",
   "metadata": {
    "tags": []
   },
   "outputs": [],
   "source": [
    "# Replace in Strings\n",
    "# select employee_id, name, replace(name, 'J', 'Z') as new_name, age, salary, gender, new_gender, hire_date from emp_gender_fixed\n",
    "from pyspark.sql.functions import regexp_replace,expr\n",
    "\n",
    "emp_name_fixed = emp.withColumn(\"new_name\", regexp_replace(emp[\"name\"], \"J\", \"Z\"))\n",
    "# just name ma jaa jaa J xa tya tya z le replace garde ko"
   ]
  },
  {
   "cell_type": "code",
   "execution_count": 7,
   "id": "d50b9a23-be28-49b1-b796-b14b513c8a3a",
   "metadata": {
    "tags": []
   },
   "outputs": [
    {
     "name": "stdout",
     "output_type": "stream",
     "text": [
      "+-----------+-------------+-------------+---+------+------+----------+-------------+\n",
      "|employee_id|department_id|         name|age|gender|salary| hire_date|     new_name|\n",
      "+-----------+-------------+-------------+---+------+------+----------+-------------+\n",
      "|        001|          101|     John Doe| 30|  Male| 50000|2015-01-01|     Zohn Doe|\n",
      "|        002|          101|   Jane Smith| 25|Female| 45000|2016-02-15|   Zane Smith|\n",
      "|        003|          102|    Bob Brown| 35|  Male| 55000|2014-05-01|    Bob Brown|\n",
      "|        004|          102|    Alice Lee| 28|Female| 48000|2017-09-30|    Alice Lee|\n",
      "|        005|          103|    Jack Chan| 40|  Male| 60000|2013-04-01|    Zack Chan|\n",
      "|        006|          103|    Jill Wong| 32|Female| 52000|2018-07-01|    Zill Wong|\n",
      "|        007|          101|James Johnson| 42|  Male| 70000|2012-03-15|Zames Zohnson|\n",
      "|        008|          102|     Kate Kim| 29|Female| 51000|2019-10-01|     Kate Kim|\n",
      "|        009|          103|      Tom Tan| 33|  Male| 58000|2016-06-01|      Tom Tan|\n",
      "|        010|          104|     Lisa Lee| 27|Female| 47000|2018-08-01|     Lisa Lee|\n",
      "|        011|          104|   David Park| 38|  Male| 65000|2015-11-01|   David Park|\n",
      "|        012|          105|   Susan Chen| 31|Female| 54000|2017-02-15|   Susan Chen|\n",
      "|        013|          106|    Brian Kim| 45|  Male| 75000|2011-07-01|    Brian Kim|\n",
      "|        014|          107|    Emily Lee| 26|Female| 46000|2019-01-01|    Emily Lee|\n",
      "|        015|          106|  Michael Lee| 37|  Male| 63000|2014-09-30|  Michael Lee|\n",
      "|        016|          107|  Kelly Zhang| 30|Female| 49000|2018-04-01|  Kelly Zhang|\n",
      "|        017|          105|  George Wang| 34|  Male| 57000|2016-03-15|  George Wang|\n",
      "|        018|          104|    Nancy Liu| 29|Female| 50000|2017-06-01|    Nancy Liu|\n",
      "|        019|          103|  Steven Chen| 36|  Male| 62000|2015-08-01|  Steven Chen|\n",
      "|        020|          102|    Grace Kim| 32|Female| 53000|2018-11-01|    Grace Kim|\n",
      "+-----------+-------------+-------------+---+------+------+----------+-------------+\n",
      "\n"
     ]
    }
   ],
   "source": [
    "emp_name_fixed.show()"
   ]
  },
  {
   "cell_type": "code",
   "execution_count": 20,
   "id": "68cb94c0-a4f4-42ae-9ba8-79eb538b8ea0",
   "metadata": {
    "tags": []
   },
   "outputs": [],
   "source": [
    "# Convert Date\n",
    "# select *,  to_date(hire_date, 'YYYY-MM-DD') as hire_date from emp_name_fixed\n",
    "\n",
    "emp_date_converted=emp_name_fixed.withColumn(\"hire\",expr(\"to_date(hire_date,'yyyy-MM-dd')\"))"
   ]
  },
  {
   "cell_type": "code",
   "execution_count": 21,
   "id": "d7c39129-fd71-4b0a-a6ac-ee4ce81b9a47",
   "metadata": {
    "tags": []
   },
   "outputs": [
    {
     "name": "stdout",
     "output_type": "stream",
     "text": [
      "+-----------+-------------+-------------+---+------+------+----------+-------------+----------+\n",
      "|employee_id|department_id|         name|age|gender|salary| hire_date|     new_name|      hire|\n",
      "+-----------+-------------+-------------+---+------+------+----------+-------------+----------+\n",
      "|        001|          101|     John Doe| 30|  Male| 50000|2015-01-01|     Zohn Doe|2015-01-01|\n",
      "|        002|          101|   Jane Smith| 25|Female| 45000|2016-02-15|   Zane Smith|2016-02-15|\n",
      "|        003|          102|    Bob Brown| 35|  Male| 55000|2014-05-01|    Bob Brown|2014-05-01|\n",
      "|        004|          102|    Alice Lee| 28|Female| 48000|2017-09-30|    Alice Lee|2017-09-30|\n",
      "|        005|          103|    Jack Chan| 40|  Male| 60000|2013-04-01|    Zack Chan|2013-04-01|\n",
      "|        006|          103|    Jill Wong| 32|Female| 52000|2018-07-01|    Zill Wong|2018-07-01|\n",
      "|        007|          101|James Johnson| 42|  Male| 70000|2012-03-15|Zames Zohnson|2012-03-15|\n",
      "|        008|          102|     Kate Kim| 29|Female| 51000|2019-10-01|     Kate Kim|2019-10-01|\n",
      "|        009|          103|      Tom Tan| 33|  Male| 58000|2016-06-01|      Tom Tan|2016-06-01|\n",
      "|        010|          104|     Lisa Lee| 27|Female| 47000|2018-08-01|     Lisa Lee|2018-08-01|\n",
      "|        011|          104|   David Park| 38|  Male| 65000|2015-11-01|   David Park|2015-11-01|\n",
      "|        012|          105|   Susan Chen| 31|Female| 54000|2017-02-15|   Susan Chen|2017-02-15|\n",
      "|        013|          106|    Brian Kim| 45|  Male| 75000|2011-07-01|    Brian Kim|2011-07-01|\n",
      "|        014|          107|    Emily Lee| 26|Female| 46000|2019-01-01|    Emily Lee|2019-01-01|\n",
      "|        015|          106|  Michael Lee| 37|  Male| 63000|2014-09-30|  Michael Lee|2014-09-30|\n",
      "|        016|          107|  Kelly Zhang| 30|Female| 49000|2018-04-01|  Kelly Zhang|2018-04-01|\n",
      "|        017|          105|  George Wang| 34|  Male| 57000|2016-03-15|  George Wang|2016-03-15|\n",
      "|        018|          104|    Nancy Liu| 29|Female| 50000|2017-06-01|    Nancy Liu|2017-06-01|\n",
      "|        019|          103|  Steven Chen| 36|  Male| 62000|2015-08-01|  Steven Chen|2015-08-01|\n",
      "|        020|          102|    Grace Kim| 32|Female| 53000|2018-11-01|    Grace Kim|2018-11-01|\n",
      "+-----------+-------------+-------------+---+------+------+----------+-------------+----------+\n",
      "\n"
     ]
    }
   ],
   "source": [
    "emp_date_converted.show()"
   ]
  },
  {
   "cell_type": "code",
   "execution_count": 22,
   "id": "cd2da15e-5f71-4de2-ae29-cc171d936090",
   "metadata": {
    "tags": []
   },
   "outputs": [],
   "source": [
    "from pyspark.sql.functions import current_date, current_timestamp\n",
    "emp_with_current_time_and_date=emp_date_converted.withColumn(\"currentdate\",current_date()).withColumn(\"currenttime\",current_timestamp())"
   ]
  },
  {
   "cell_type": "code",
   "execution_count": 23,
   "id": "33a8bbf2-3c33-4b4d-a231-a380ace57d5e",
   "metadata": {
    "tags": []
   },
   "outputs": [
    {
     "name": "stdout",
     "output_type": "stream",
     "text": [
      "+-----------+-------------+-------------+---+------+------+----------+-------------+----------+-----------+--------------------+\n",
      "|employee_id|department_id|         name|age|gender|salary| hire_date|     new_name|      hire|currentdate|         currenttime|\n",
      "+-----------+-------------+-------------+---+------+------+----------+-------------+----------+-----------+--------------------+\n",
      "|        001|          101|     John Doe| 30|  Male| 50000|2015-01-01|     Zohn Doe|2015-01-01| 2025-01-11|2025-01-11 18:43:...|\n",
      "|        002|          101|   Jane Smith| 25|Female| 45000|2016-02-15|   Zane Smith|2016-02-15| 2025-01-11|2025-01-11 18:43:...|\n",
      "|        003|          102|    Bob Brown| 35|  Male| 55000|2014-05-01|    Bob Brown|2014-05-01| 2025-01-11|2025-01-11 18:43:...|\n",
      "|        004|          102|    Alice Lee| 28|Female| 48000|2017-09-30|    Alice Lee|2017-09-30| 2025-01-11|2025-01-11 18:43:...|\n",
      "|        005|          103|    Jack Chan| 40|  Male| 60000|2013-04-01|    Zack Chan|2013-04-01| 2025-01-11|2025-01-11 18:43:...|\n",
      "|        006|          103|    Jill Wong| 32|Female| 52000|2018-07-01|    Zill Wong|2018-07-01| 2025-01-11|2025-01-11 18:43:...|\n",
      "|        007|          101|James Johnson| 42|  Male| 70000|2012-03-15|Zames Zohnson|2012-03-15| 2025-01-11|2025-01-11 18:43:...|\n",
      "|        008|          102|     Kate Kim| 29|Female| 51000|2019-10-01|     Kate Kim|2019-10-01| 2025-01-11|2025-01-11 18:43:...|\n",
      "|        009|          103|      Tom Tan| 33|  Male| 58000|2016-06-01|      Tom Tan|2016-06-01| 2025-01-11|2025-01-11 18:43:...|\n",
      "|        010|          104|     Lisa Lee| 27|Female| 47000|2018-08-01|     Lisa Lee|2018-08-01| 2025-01-11|2025-01-11 18:43:...|\n",
      "|        011|          104|   David Park| 38|  Male| 65000|2015-11-01|   David Park|2015-11-01| 2025-01-11|2025-01-11 18:43:...|\n",
      "|        012|          105|   Susan Chen| 31|Female| 54000|2017-02-15|   Susan Chen|2017-02-15| 2025-01-11|2025-01-11 18:43:...|\n",
      "|        013|          106|    Brian Kim| 45|  Male| 75000|2011-07-01|    Brian Kim|2011-07-01| 2025-01-11|2025-01-11 18:43:...|\n",
      "|        014|          107|    Emily Lee| 26|Female| 46000|2019-01-01|    Emily Lee|2019-01-01| 2025-01-11|2025-01-11 18:43:...|\n",
      "|        015|          106|  Michael Lee| 37|  Male| 63000|2014-09-30|  Michael Lee|2014-09-30| 2025-01-11|2025-01-11 18:43:...|\n",
      "|        016|          107|  Kelly Zhang| 30|Female| 49000|2018-04-01|  Kelly Zhang|2018-04-01| 2025-01-11|2025-01-11 18:43:...|\n",
      "|        017|          105|  George Wang| 34|  Male| 57000|2016-03-15|  George Wang|2016-03-15| 2025-01-11|2025-01-11 18:43:...|\n",
      "|        018|          104|    Nancy Liu| 29|Female| 50000|2017-06-01|    Nancy Liu|2017-06-01| 2025-01-11|2025-01-11 18:43:...|\n",
      "|        019|          103|  Steven Chen| 36|  Male| 62000|2015-08-01|  Steven Chen|2015-08-01| 2025-01-11|2025-01-11 18:43:...|\n",
      "|        020|          102|    Grace Kim| 32|Female| 53000|2018-11-01|    Grace Kim|2018-11-01| 2025-01-11|2025-01-11 18:43:...|\n",
      "+-----------+-------------+-------------+---+------+------+----------+-------------+----------+-----------+--------------------+\n",
      "\n"
     ]
    }
   ],
   "source": [
    "emp_with_current_time_and_date.show()"
   ]
  },
  {
   "cell_type": "code",
   "execution_count": null,
   "id": "f923eb80-96d2-4293-9eb8-d76a2adbdd2a",
   "metadata": {},
   "outputs": [],
   "source": []
  }
 ],
 "metadata": {
  "kernelspec": {
   "display_name": "sparkvenv",
   "language": "python",
   "name": "sparkvenv"
  },
  "language_info": {
   "codemirror_mode": {
    "name": "ipython",
    "version": 3
   },
   "file_extension": ".py",
   "mimetype": "text/x-python",
   "name": "python",
   "nbconvert_exporter": "python",
   "pygments_lexer": "ipython3",
   "version": "3.11.5"
  }
 },
 "nbformat": 4,
 "nbformat_minor": 5
}
